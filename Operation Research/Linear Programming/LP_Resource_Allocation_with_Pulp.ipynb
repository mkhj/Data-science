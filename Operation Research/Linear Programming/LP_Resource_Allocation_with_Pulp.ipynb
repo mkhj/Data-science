{
  "nbformat": 4,
  "nbformat_minor": 0,
  "metadata": {
    "colab": {
      "provenance": []
    },
    "kernelspec": {
      "name": "python3",
      "display_name": "Python 3"
    },
    "language_info": {
      "name": "python"
    }
  },
  "cells": [
    {
      "cell_type": "code",
      "execution_count": 1,
      "metadata": {
        "colab": {
          "base_uri": "https://localhost:8080/"
        },
        "id": "fsbGARm8bC-1",
        "outputId": "3a626395-e6f3-4182-d7cb-478bef47b41b"
      },
      "outputs": [
        {
          "output_type": "stream",
          "name": "stdout",
          "text": [
            "Collecting pulp\n",
            "  Downloading PuLP-2.9.0-py3-none-any.whl.metadata (5.4 kB)\n",
            "Downloading PuLP-2.9.0-py3-none-any.whl (17.7 MB)\n",
            "\u001b[2K   \u001b[90m━━━━━━━━━━━━━━━━━━━━━━━━━━━━━━━━━━━━━━━━\u001b[0m \u001b[32m17.7/17.7 MB\u001b[0m \u001b[31m16.9 MB/s\u001b[0m eta \u001b[36m0:00:00\u001b[0m\n",
            "\u001b[?25hInstalling collected packages: pulp\n",
            "Successfully installed pulp-2.9.0\n"
          ]
        }
      ],
      "source": [
        "!pip install pulp"
      ]
    },
    {
      "cell_type": "code",
      "source": [
        "import pandas as pd\n",
        "import pulp as pl\n",
        "from pulp import LpMaximize, LpProblem, LpStatus, lpSum, LpVariable"
      ],
      "metadata": {
        "id": "jxS-bGJkbLAr"
      },
      "execution_count": 2,
      "outputs": []
    },
    {
      "cell_type": "code",
      "source": [
        "# Which solvers are available to us?\n",
        "solver_list = pl.listSolvers(onlyAvailable=True)\n",
        "print(solver_list)"
      ],
      "metadata": {
        "colab": {
          "base_uri": "https://localhost:8080/"
        },
        "id": "Ns3gCAPsbPWI",
        "outputId": "b219edc1-1893-498e-c94c-01146dc3f78e"
      },
      "execution_count": 3,
      "outputs": [
        {
          "output_type": "stream",
          "name": "stdout",
          "text": [
            "['PULP_CBC_CMD']\n"
          ]
        }
      ]
    },
    {
      "cell_type": "code",
      "source": [
        "# However Pulp can interact with multiple solvers (if installed)\n",
        "solver_list = pl.listSolvers()\n",
        "print(solver_list)"
      ],
      "metadata": {
        "colab": {
          "base_uri": "https://localhost:8080/"
        },
        "id": "X9d65BxL8HPr",
        "outputId": "ee0dcd8e-f74a-4514-c9f4-4be9321185a7"
      },
      "execution_count": 4,
      "outputs": [
        {
          "output_type": "stream",
          "name": "stdout",
          "text": [
            "['GLPK_CMD', 'PYGLPK', 'CPLEX_CMD', 'CPLEX_PY', 'GUROBI', 'GUROBI_CMD', 'MOSEK', 'XPRESS', 'XPRESS', 'XPRESS_PY', 'PULP_CBC_CMD', 'COIN_CMD', 'COINMP_DLL', 'CHOCO_CMD', 'MIPCL_CMD', 'SCIP_CMD', 'FSCIP_CMD', 'SCIP_PY', 'HiGHS', 'HiGHS_CMD', 'COPT', 'COPT_DLL', 'COPT_CMD']\n"
          ]
        }
      ]
    },
    {
      "cell_type": "markdown",
      "source": [
        "#Resource Allocation Problem\n",
        "\n",
        "* Two products: Product 1 generates a profit of 80, while Product 2 yields a profit of 65\n",
        "* Producing Product 1 requires 0.15 hours of cutting, 0.6 hours of sowing and 0.05 of packaging\n",
        "* Product Product 2 requires 0.1 hours of cutting, 0.9 hours of sowing and 0.05 hours of packaging\n",
        "* The following resource contraints applies: 110 hours of cutting, 650 hours of sowing and 40 hours of packaging\n",
        "\n",
        "Find the best product mix within resource limitations to maximize profit\n",
        "\n",
        "Source: https://science-gym.dk/mat/20002010/lin-prog.pdf\n",
        "\n",
        "\n"
      ],
      "metadata": {
        "id": "0Y612Ur8bVSO"
      }
    },
    {
      "cell_type": "markdown",
      "source": [
        "### Finding the optimal solution to the problem"
      ],
      "metadata": {
        "id": "7LMGuRbOoIX8"
      }
    },
    {
      "cell_type": "code",
      "source": [
        "model = LpProblem(name=\"resournce-allocation\", sense=LpMaximize) # Maximise profit\n",
        "\n",
        "# Initialize the decision variables\n",
        "x1 = LpVariable(name=\"x1\", lowBound=0, upBound=None, cat='Integer') # x1 => 0\n",
        "x2 = LpVariable(name=\"x2\", lowBound=0, upBound=None, cat='Integer')\n",
        "\n",
        "# Add the constraints to the model\n",
        "model += (0.15 * x1 + 0.1  * x2 <= 110, \"cutting (manpower)\")\n",
        "model += ( 0.6 * x1 + 0.9  * x2 <= 650, \"sowing (manpower)\")\n",
        "model += (0.05 * x1 + 0.05 * x2 <= 40,  \"packaging (manpower)\")\n",
        "\n",
        "\n",
        "# Add the objective function to the model\n",
        "model += 80 * x1 + 65 * x2\n",
        "\n",
        "print(model)\n",
        "\n",
        "# Solve the problem\n",
        "status = model.solve()\n",
        "print(f\"status: {model.status}, {LpStatus[model.status]}\\n\")\n",
        "\n",
        "# Maximum profit\n",
        "print(f\"objective: {model.objective.value()}\\n\")\n",
        "\n",
        "# Optimal values\n",
        "for var in model.variables():\n",
        "  print(f\"{var.name}: {var.value()}\")"
      ],
      "metadata": {
        "colab": {
          "base_uri": "https://localhost:8080/"
        },
        "id": "0G3dVbt9kI4N",
        "outputId": "49987b8b-84f1-46af-8743-5a1aaa8c66de"
      },
      "execution_count": 10,
      "outputs": [
        {
          "output_type": "stream",
          "name": "stdout",
          "text": [
            "resournce-allocation:\n",
            "MAXIMIZE\n",
            "80*x1 + 65*x2 + 0\n",
            "SUBJECT TO\n",
            "cutting_(manpower): 0.15 x1 + 0.1 x2 <= 110\n",
            "\n",
            "sowing_(manpower): 0.6 x1 + 0.9 x2 <= 650\n",
            "\n",
            "packaging_(manpower): 0.05 x1 + 0.05 x2 <= 40\n",
            "\n",
            "VARIABLES\n",
            "0 <= x1 Integer\n",
            "0 <= x2 Integer\n",
            "\n",
            "status: 1, Optimal\n",
            "\n",
            "objective: 61000.0\n",
            "\n",
            "x1: 600.0\n",
            "x2: 200.0\n"
          ]
        }
      ]
    },
    {
      "cell_type": "markdown",
      "source": [
        "### Sensitivity Analysis"
      ],
      "metadata": {
        "id": "aOOCGn2AmJRW"
      }
    },
    {
      "cell_type": "code",
      "source": [
        "# Display Contraints - Shahow price and Slack\n",
        "o = [{\n",
        "    'name':name,\n",
        "    'shadow price':c.pi,\n",
        "    'slack': c.slack} for name, c in model.constraints.items()]\n",
        "\n",
        "print(pd.DataFrame(o))"
      ],
      "metadata": {
        "colab": {
          "base_uri": "https://localhost:8080/"
        },
        "id": "yq3fIJ5ekt4F",
        "outputId": "1d1c846f-20a1-468f-b093-6cc78c725eba"
      },
      "execution_count": 6,
      "outputs": [
        {
          "output_type": "stream",
          "name": "stdout",
          "text": [
            "                   name  shadow price  slack\n",
            "0    cutting_(manpower)         300.0   -0.0\n",
            "1     sowing_(manpower)          -0.0  110.0\n",
            "2  packaging_(manpower)         700.0   -0.0\n"
          ]
        }
      ]
    },
    {
      "cell_type": "markdown",
      "source": [
        "**Observation**\n",
        "\n",
        " Cutting and Packaging are binding (slack = 0)\n",
        "\n",
        "* This means that Cutting and Packaging is utilized 100%.\n",
        "\n",
        "Sowing is not binding (slack > 0)\n",
        "\n",
        "* This means that we have a surplus of Sowing manpower, which we could potential sell (or use) to increase profit.\n",
        "\n",
        "\n"
      ],
      "metadata": {
        "id": "Qb8bMV_KtaiJ"
      }
    },
    {
      "cell_type": "markdown",
      "source": [
        "#### Impact of shadow prices\n",
        "\n",
        "When consider the shadow prices we have two options:\n",
        "\n",
        "* Selling 1 unit of Cutting manpower hours\n",
        "* Buing 1 unit of Cutting manpower hours\n",
        "\n",
        "If sell 1 unit we will decrease our profit with 300 while buying 1 unit will increase profit with 300.\n",
        "\n",
        "This means that if we choose to buy more hours we stop pay no more than 300 while if we sell the hours we should charge at least 300.\n",
        "\n",
        "Note: selling og buy more sowing hours will not affect the profit\n",
        "\n",
        "**Decision - Impact of increasing Cutting manpower with 1 unit**"
      ],
      "metadata": {
        "id": "s0rPiTtDuxUY"
      }
    },
    {
      "cell_type": "code",
      "source": [
        "model = LpProblem(name=\"resournce-allocation\", sense=LpMaximize) # Maximise profit\n",
        "\n",
        "# Initialize the decision variables\n",
        "x1 = LpVariable(name=\"x1\", lowBound=0, upBound=None, cat='Integer') # x1 => 0\n",
        "x2 = LpVariable(name=\"x2\", lowBound=0, upBound=None, cat='Integer')\n",
        "\n",
        "# Add the constraints to the model\n",
        "model += (0.15 * x1 + 0.1  * x2 <= 111, \"cutting (manpower)\") # <---- Increasing with 1 unit\n",
        "model += ( 0.6 * x1 + 0.9  * x2 <= 650, \"sowing (manpower)\")\n",
        "model += (0.05 * x1 + 0.05 * x2 <= 40,  \"packing (manpower)\")\n",
        "\n",
        "\n",
        "# Add the objective function to the model\n",
        "model += 80 * x1 + 65 * x2\n",
        "\n",
        "print(model)\n",
        "\n",
        "# Solve the problem\n",
        "status = model.solve()\n",
        "print(f\"status: {model.status}, {LpStatus[model.status]}\\n\")\n",
        "\n",
        "# Maximum profit\n",
        "print(f\"objective: {model.objective.value()}\\n\")\n",
        "\n",
        "# Optimal values\n",
        "for var in model.variables():\n",
        "  print(f\"{var.name}: {var.value()}\")\n",
        "\n",
        "# Display Contraints - Shahow price and Slack\n",
        "o = [{\n",
        "    'name':name,\n",
        "    'shadow price':c.pi,\n",
        "    'slack': c.slack} for name, c in model.constraints.items()]\n",
        "\n",
        "print(pd.DataFrame(o))"
      ],
      "metadata": {
        "colab": {
          "base_uri": "https://localhost:8080/"
        },
        "id": "gNAKIK_Klu0-",
        "outputId": "d8ba3fed-2a22-498c-ee6f-252899b01d2f"
      },
      "execution_count": 9,
      "outputs": [
        {
          "output_type": "stream",
          "name": "stdout",
          "text": [
            "resournce-allocation:\n",
            "MAXIMIZE\n",
            "80*x1 + 65*x2 + 0\n",
            "SUBJECT TO\n",
            "cutting_(manpower): 0.15 x1 + 0.1 x2 <= 111\n",
            "\n",
            "sowing_(manpower): 0.6 x1 + 0.9 x2 <= 650\n",
            "\n",
            "packing_(manpower): 0.05 x1 + 0.05 x2 <= 40\n",
            "\n",
            "VARIABLES\n",
            "0 <= x1 Integer\n",
            "0 <= x2 Integer\n",
            "\n",
            "status: 1, Optimal\n",
            "\n",
            "objective: 61300.0\n",
            "\n",
            "x1: 620.0\n",
            "x2: 180.0\n",
            "                 name  shadow price  slack\n",
            "0  cutting_(manpower)          -0.0   -0.0\n",
            "1   sowing_(manpower)          -0.0  116.0\n",
            "2  packing_(manpower)          -0.0   -0.0\n"
          ]
        }
      ]
    },
    {
      "cell_type": "markdown",
      "source": [
        "As seen in the above output, buying 1 unit of Cutting manpower increase the profit with 300.\n",
        "\n",
        "However the decision to buy more manpower also affects production volume. We now product more of Product 1 and less of Product 2. Moreover, we also see a, increase in the surpluse of Sowing manpower."
      ],
      "metadata": {
        "id": "nfEJEPPzw_-M"
      }
    },
    {
      "cell_type": "markdown",
      "source": [
        "#### Impact of optimizing manpower\n",
        "\n",
        "Another interesting question could be what would happen if can optimize the manpower across departments. Forexample, let us say we are able to optimize the production layout so we are able to move some manpower around while keeping the same amount of manpower (110 + 650 + 40 = 800)\n",
        "\n",
        "We model this by introducing two new variables and changing the last constraint."
      ],
      "metadata": {
        "id": "U_G9xARezOS4"
      }
    },
    {
      "cell_type": "code",
      "source": [
        "# Create the model\n",
        "model = LpProblem(name=\"Test\", sense=LpMaximize)\n",
        "\n",
        "# Initialize the decision variables\n",
        "x1 = LpVariable(name=\"x1\", lowBound=0, upBound=None, cat='Integer') # x1 => 0\n",
        "x2 = LpVariable(name=\"x2\", lowBound=0, upBound=None, cat='Integer')\n",
        "\n",
        "p = LpVariable(name=\"p\", lowBound=0, upBound=None, cat='Continuous')\n",
        "q = LpVariable(name=\"q\", lowBound=0, upBound=None, cat='Continuous')\n",
        "\n",
        "model += (0.15 * x1 + 0.1  * x2 <= p, \"cutting (manpower)\")\n",
        "model += ( 0.6 * x1 + 0.9  * x2 <= q, \"sowing (manpower)\")\n",
        "model += (0.05 * x1 + 0.05 * x2 <= 800 - p - q,  \"packing (manpower)\")\n",
        "\n",
        "# Add the objective function to the model\n",
        "model += 80*x1 + 65*x2\n",
        "\n",
        "# Solve the problem\n",
        "status = model.solve()\n",
        "print(f\"status: {model.status}, {LpStatus[model.status]}\")\n",
        "\n",
        "print(f\"objective: {model.objective.value()}\")\n",
        "\n",
        "for var in model.variables():\n",
        "  print(f\"{var.name}: {var.value()}\")\n"
      ],
      "metadata": {
        "colab": {
          "base_uri": "https://localhost:8080/"
        },
        "id": "hbSPNjlpw1Dz",
        "outputId": "3dd891ab-7e62-48f0-8041-54a3e124d91a"
      },
      "execution_count": 8,
      "outputs": [
        {
          "output_type": "stream",
          "name": "stdout",
          "text": [
            "status: 1, Optimal\n",
            "objective: 80000.0\n",
            "p: 150.0\n",
            "q: 600.0\n",
            "x1: 1000.0\n",
            "x2: 0.0\n"
          ]
        }
      ]
    },
    {
      "cell_type": "markdown",
      "source": [
        "**Observation**\n",
        "When optimizing the manpower mix we increase the profit significantly.\n",
        "\n",
        "The allocation of manpower also changes:\n",
        "\n",
        "* Cutting: 150 (previously 110)\n",
        "* Sowing: 600  (previously 650)\n",
        "* Packing: 50 (Previously 40)\n",
        "\n",
        "The product output also changes:\n",
        "\n",
        "* Now we produce 1000 units of Product 1 and 0 units of Product 2. Interestingly, the total output is also higher, as it was 800 units in the original problem.\n",
        "\n",
        "This raises new and interesting business questions:\n",
        "* Can we actually sell 1000 units of Product 1?\n",
        "* Will we loose customers if dont sell Product 2? (this might happen if there are some syngergies between the products)\n",
        "* Will losing customers affect the Product 1 sales?\n",
        "* Do we have enough warehouse capacity to store 1000 units?\n",
        "* ...\n"
      ],
      "metadata": {
        "id": "xgC220wazNdX"
      }
    },
    {
      "cell_type": "markdown",
      "source": [
        "# Resources\n",
        "\n",
        "* https://coin-or.github.io/pulp/technical/pulp.html\n",
        "* https://realpython.com/linear-programming-python/#using-pulp\n",
        "* https://science-gym.dk/mat/20002010/lin-prog.pdf"
      ],
      "metadata": {
        "id": "cqH1Cl9Bhgei"
      }
    },
    {
      "cell_type": "code",
      "source": [],
      "metadata": {
        "id": "EvQd5ypuyfai"
      },
      "execution_count": null,
      "outputs": []
    }
  ]
}