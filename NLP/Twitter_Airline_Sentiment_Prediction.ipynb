{
  "nbformat": 4,
  "nbformat_minor": 0,
  "metadata": {
    "colab": {
      "provenance": []
    },
    "kernelspec": {
      "name": "python3",
      "display_name": "Python 3"
    },
    "language_info": {
      "name": "python"
    }
  },
  "cells": [
    {
      "cell_type": "markdown",
      "source": [
        "## Twitter Airline Sentiment Prediction"
      ],
      "metadata": {
        "id": "uxzDcUQy5-S_"
      }
    },
    {
      "cell_type": "code",
      "execution_count": 1,
      "metadata": {
        "id": "rZ_4wAApvFRt"
      },
      "outputs": [],
      "source": [
        "import re\n",
        "import pandas as pd\n",
        "import numpy as np\n",
        "import matplotlib.pyplot as plt\n",
        "import seaborn as sns\n",
        "\n",
        "plt.style.use('seaborn-v0_8-whitegrid')\n",
        "\n",
        "import missingno as msno\n",
        "\n",
        "import nltk\n",
        "from nltk.corpus import stopwords\n",
        "from nltk.probability import FreqDist\n",
        "from nltk.tokenize import word_tokenize\n",
        "from nltk.stem import WordNetLemmatizer\n",
        "from nltk.tokenize import word_tokenize\n",
        "from nltk.tokenize import TweetTokenizer\n",
        "\n",
        "from nltk.sentiment.vader import SentimentIntensityAnalyzer\n",
        "\n",
        "from textblob import TextBlob\n",
        "\n",
        "from sklearn.feature_extraction.text import CountVectorizer, TfidfVectorizer\n",
        "\n",
        "from sklearn.preprocessing import LabelEncoder\n",
        "\n",
        "from sklearn.metrics import accuracy_score\n",
        "from sklearn.metrics import confusion_matrix\n",
        "from sklearn.metrics import classification_report\n",
        "\n",
        "\n",
        "from wordcloud import WordCloud\n",
        "from string import punctuation\n",
        "#from autocorrect import Speller\n",
        "\n"
      ]
    },
    {
      "cell_type": "code",
      "source": [
        "nltk.download('stopwords')\n",
        "nltk.download('wordnet')\n",
        "nltk.download('vader_lexicon')\n"
      ],
      "metadata": {
        "colab": {
          "base_uri": "https://localhost:8080/"
        },
        "id": "Jbq6kztb3iZF",
        "outputId": "3c2b3fcb-969b-4e40-efa0-469bc675f18a"
      },
      "execution_count": 2,
      "outputs": [
        {
          "output_type": "stream",
          "name": "stderr",
          "text": [
            "[nltk_data] Downloading package stopwords to /root/nltk_data...\n",
            "[nltk_data]   Package stopwords is already up-to-date!\n",
            "[nltk_data] Downloading package wordnet to /root/nltk_data...\n",
            "[nltk_data]   Package wordnet is already up-to-date!\n",
            "[nltk_data] Downloading package vader_lexicon to /root/nltk_data...\n",
            "[nltk_data]   Package vader_lexicon is already up-to-date!\n"
          ]
        },
        {
          "output_type": "execute_result",
          "data": {
            "text/plain": [
              "True"
            ]
          },
          "metadata": {},
          "execution_count": 2
        }
      ]
    },
    {
      "cell_type": "markdown",
      "source": [
        "## Data Collection"
      ],
      "metadata": {
        "id": "CHNRXx_s3jik"
      }
    },
    {
      "cell_type": "code",
      "source": [
        "df = pd.read_csv('https://github.com/mkhj/Data-science/raw/master/Natural%20Language%20Processing%20(NLP)/Data/Airline-Sentiment-2-w-AA.csv', sep= ',', header = [0])"
      ],
      "metadata": {
        "id": "AqJSRTGr1g9W"
      },
      "execution_count": 3,
      "outputs": []
    },
    {
      "cell_type": "code",
      "source": [
        "df.info()"
      ],
      "metadata": {
        "colab": {
          "base_uri": "https://localhost:8080/"
        },
        "id": "vRNw0g0k3hAf",
        "outputId": "9a44e7c6-88c2-43a0-ea20-ed2707be8318"
      },
      "execution_count": 4,
      "outputs": [
        {
          "output_type": "stream",
          "name": "stdout",
          "text": [
            "<class 'pandas.core.frame.DataFrame'>\n",
            "RangeIndex: 14640 entries, 0 to 14639\n",
            "Data columns (total 20 columns):\n",
            " #   Column                        Non-Null Count  Dtype  \n",
            "---  ------                        --------------  -----  \n",
            " 0   _unit_id                      14640 non-null  int64  \n",
            " 1   _golden                       14640 non-null  bool   \n",
            " 2   _unit_state                   14640 non-null  object \n",
            " 3   _trusted_judgments            14640 non-null  int64  \n",
            " 4   _last_judgment_at             14584 non-null  object \n",
            " 5   airline_sentiment             14640 non-null  object \n",
            " 6   airline_sentiment:confidence  14640 non-null  float64\n",
            " 7   negativereason                9178 non-null   object \n",
            " 8   negativereason:confidence     10522 non-null  float64\n",
            " 9   airline                       14640 non-null  object \n",
            " 10  airline_sentiment_gold        40 non-null     object \n",
            " 11  name                          14640 non-null  object \n",
            " 12  negativereason_gold           32 non-null     object \n",
            " 13  retweet_count                 14640 non-null  int64  \n",
            " 14  text                          14640 non-null  object \n",
            " 15  tweet_coord                   1019 non-null   object \n",
            " 16  tweet_created                 14640 non-null  object \n",
            " 17  tweet_id                      14640 non-null  int64  \n",
            " 18  tweet_location                9907 non-null   object \n",
            " 19  user_timezone                 9820 non-null   object \n",
            "dtypes: bool(1), float64(2), int64(4), object(13)\n",
            "memory usage: 2.1+ MB\n"
          ]
        }
      ]
    },
    {
      "cell_type": "code",
      "source": [
        "df.head(2)"
      ],
      "metadata": {
        "colab": {
          "base_uri": "https://localhost:8080/",
          "height": 233
        },
        "id": "URRFPJoz2bS_",
        "outputId": "0316a994-563f-4663-f315-350cdf0f68b1"
      },
      "execution_count": 5,
      "outputs": [
        {
          "output_type": "execute_result",
          "data": {
            "text/plain": [
              "    _unit_id  _golden _unit_state  _trusted_judgments   _last_judgment_at  \\\n",
              "0  681448150    False   finalized                   3  2/25/2015 05:24:40   \n",
              "1  681448153    False   finalized                   3  2/25/2015 01:53:36   \n",
              "\n",
              "  airline_sentiment  airline_sentiment:confidence negativereason  \\\n",
              "0           neutral                        1.0000            NaN   \n",
              "1          positive                        0.3486            NaN   \n",
              "\n",
              "   negativereason:confidence         airline airline_sentiment_gold      name  \\\n",
              "0                        NaN  Virgin America                    NaN   cairdin   \n",
              "1                        0.0  Virgin America                    NaN  jnardino   \n",
              "\n",
              "  negativereason_gold  retweet_count  \\\n",
              "0                 NaN              0   \n",
              "1                 NaN              0   \n",
              "\n",
              "                                                text tweet_coord  \\\n",
              "0                @VirginAmerica What @dhepburn said.         NaN   \n",
              "1  @VirginAmerica plus you've added commercials t...         NaN   \n",
              "\n",
              "               tweet_created            tweet_id tweet_location  \\\n",
              "0  2015-02-24 11:35:52 -0800  570306133677760513            NaN   \n",
              "1  2015-02-24 11:15:59 -0800  570301130888122368            NaN   \n",
              "\n",
              "                user_timezone  \n",
              "0  Eastern Time (US & Canada)  \n",
              "1  Pacific Time (US & Canada)  "
            ],
            "text/html": [
              "\n",
              "  <div id=\"df-57a80c1d-132d-4fd0-932e-0538c96e3317\" class=\"colab-df-container\">\n",
              "    <div>\n",
              "<style scoped>\n",
              "    .dataframe tbody tr th:only-of-type {\n",
              "        vertical-align: middle;\n",
              "    }\n",
              "\n",
              "    .dataframe tbody tr th {\n",
              "        vertical-align: top;\n",
              "    }\n",
              "\n",
              "    .dataframe thead th {\n",
              "        text-align: right;\n",
              "    }\n",
              "</style>\n",
              "<table border=\"1\" class=\"dataframe\">\n",
              "  <thead>\n",
              "    <tr style=\"text-align: right;\">\n",
              "      <th></th>\n",
              "      <th>_unit_id</th>\n",
              "      <th>_golden</th>\n",
              "      <th>_unit_state</th>\n",
              "      <th>_trusted_judgments</th>\n",
              "      <th>_last_judgment_at</th>\n",
              "      <th>airline_sentiment</th>\n",
              "      <th>airline_sentiment:confidence</th>\n",
              "      <th>negativereason</th>\n",
              "      <th>negativereason:confidence</th>\n",
              "      <th>airline</th>\n",
              "      <th>airline_sentiment_gold</th>\n",
              "      <th>name</th>\n",
              "      <th>negativereason_gold</th>\n",
              "      <th>retweet_count</th>\n",
              "      <th>text</th>\n",
              "      <th>tweet_coord</th>\n",
              "      <th>tweet_created</th>\n",
              "      <th>tweet_id</th>\n",
              "      <th>tweet_location</th>\n",
              "      <th>user_timezone</th>\n",
              "    </tr>\n",
              "  </thead>\n",
              "  <tbody>\n",
              "    <tr>\n",
              "      <th>0</th>\n",
              "      <td>681448150</td>\n",
              "      <td>False</td>\n",
              "      <td>finalized</td>\n",
              "      <td>3</td>\n",
              "      <td>2/25/2015 05:24:40</td>\n",
              "      <td>neutral</td>\n",
              "      <td>1.0000</td>\n",
              "      <td>NaN</td>\n",
              "      <td>NaN</td>\n",
              "      <td>Virgin America</td>\n",
              "      <td>NaN</td>\n",
              "      <td>cairdin</td>\n",
              "      <td>NaN</td>\n",
              "      <td>0</td>\n",
              "      <td>@VirginAmerica What @dhepburn said.</td>\n",
              "      <td>NaN</td>\n",
              "      <td>2015-02-24 11:35:52 -0800</td>\n",
              "      <td>570306133677760513</td>\n",
              "      <td>NaN</td>\n",
              "      <td>Eastern Time (US &amp; Canada)</td>\n",
              "    </tr>\n",
              "    <tr>\n",
              "      <th>1</th>\n",
              "      <td>681448153</td>\n",
              "      <td>False</td>\n",
              "      <td>finalized</td>\n",
              "      <td>3</td>\n",
              "      <td>2/25/2015 01:53:36</td>\n",
              "      <td>positive</td>\n",
              "      <td>0.3486</td>\n",
              "      <td>NaN</td>\n",
              "      <td>0.0</td>\n",
              "      <td>Virgin America</td>\n",
              "      <td>NaN</td>\n",
              "      <td>jnardino</td>\n",
              "      <td>NaN</td>\n",
              "      <td>0</td>\n",
              "      <td>@VirginAmerica plus you've added commercials t...</td>\n",
              "      <td>NaN</td>\n",
              "      <td>2015-02-24 11:15:59 -0800</td>\n",
              "      <td>570301130888122368</td>\n",
              "      <td>NaN</td>\n",
              "      <td>Pacific Time (US &amp; Canada)</td>\n",
              "    </tr>\n",
              "  </tbody>\n",
              "</table>\n",
              "</div>\n",
              "    <div class=\"colab-df-buttons\">\n",
              "\n",
              "  <div class=\"colab-df-container\">\n",
              "    <button class=\"colab-df-convert\" onclick=\"convertToInteractive('df-57a80c1d-132d-4fd0-932e-0538c96e3317')\"\n",
              "            title=\"Convert this dataframe to an interactive table.\"\n",
              "            style=\"display:none;\">\n",
              "\n",
              "  <svg xmlns=\"http://www.w3.org/2000/svg\" height=\"24px\" viewBox=\"0 -960 960 960\">\n",
              "    <path d=\"M120-120v-720h720v720H120Zm60-500h600v-160H180v160Zm220 220h160v-160H400v160Zm0 220h160v-160H400v160ZM180-400h160v-160H180v160Zm440 0h160v-160H620v160ZM180-180h160v-160H180v160Zm440 0h160v-160H620v160Z\"/>\n",
              "  </svg>\n",
              "    </button>\n",
              "\n",
              "  <style>\n",
              "    .colab-df-container {\n",
              "      display:flex;\n",
              "      gap: 12px;\n",
              "    }\n",
              "\n",
              "    .colab-df-convert {\n",
              "      background-color: #E8F0FE;\n",
              "      border: none;\n",
              "      border-radius: 50%;\n",
              "      cursor: pointer;\n",
              "      display: none;\n",
              "      fill: #1967D2;\n",
              "      height: 32px;\n",
              "      padding: 0 0 0 0;\n",
              "      width: 32px;\n",
              "    }\n",
              "\n",
              "    .colab-df-convert:hover {\n",
              "      background-color: #E2EBFA;\n",
              "      box-shadow: 0px 1px 2px rgba(60, 64, 67, 0.3), 0px 1px 3px 1px rgba(60, 64, 67, 0.15);\n",
              "      fill: #174EA6;\n",
              "    }\n",
              "\n",
              "    .colab-df-buttons div {\n",
              "      margin-bottom: 4px;\n",
              "    }\n",
              "\n",
              "    [theme=dark] .colab-df-convert {\n",
              "      background-color: #3B4455;\n",
              "      fill: #D2E3FC;\n",
              "    }\n",
              "\n",
              "    [theme=dark] .colab-df-convert:hover {\n",
              "      background-color: #434B5C;\n",
              "      box-shadow: 0px 1px 3px 1px rgba(0, 0, 0, 0.15);\n",
              "      filter: drop-shadow(0px 1px 2px rgba(0, 0, 0, 0.3));\n",
              "      fill: #FFFFFF;\n",
              "    }\n",
              "  </style>\n",
              "\n",
              "    <script>\n",
              "      const buttonEl =\n",
              "        document.querySelector('#df-57a80c1d-132d-4fd0-932e-0538c96e3317 button.colab-df-convert');\n",
              "      buttonEl.style.display =\n",
              "        google.colab.kernel.accessAllowed ? 'block' : 'none';\n",
              "\n",
              "      async function convertToInteractive(key) {\n",
              "        const element = document.querySelector('#df-57a80c1d-132d-4fd0-932e-0538c96e3317');\n",
              "        const dataTable =\n",
              "          await google.colab.kernel.invokeFunction('convertToInteractive',\n",
              "                                                    [key], {});\n",
              "        if (!dataTable) return;\n",
              "\n",
              "        const docLinkHtml = 'Like what you see? Visit the ' +\n",
              "          '<a target=\"_blank\" href=https://colab.research.google.com/notebooks/data_table.ipynb>data table notebook</a>'\n",
              "          + ' to learn more about interactive tables.';\n",
              "        element.innerHTML = '';\n",
              "        dataTable['output_type'] = 'display_data';\n",
              "        await google.colab.output.renderOutput(dataTable, element);\n",
              "        const docLink = document.createElement('div');\n",
              "        docLink.innerHTML = docLinkHtml;\n",
              "        element.appendChild(docLink);\n",
              "      }\n",
              "    </script>\n",
              "  </div>\n",
              "\n",
              "\n",
              "<div id=\"df-08bb5e64-6e30-4532-bc96-5e59b2875de9\">\n",
              "  <button class=\"colab-df-quickchart\" onclick=\"quickchart('df-08bb5e64-6e30-4532-bc96-5e59b2875de9')\"\n",
              "            title=\"Suggest charts\"\n",
              "            style=\"display:none;\">\n",
              "\n",
              "<svg xmlns=\"http://www.w3.org/2000/svg\" height=\"24px\"viewBox=\"0 0 24 24\"\n",
              "     width=\"24px\">\n",
              "    <g>\n",
              "        <path d=\"M19 3H5c-1.1 0-2 .9-2 2v14c0 1.1.9 2 2 2h14c1.1 0 2-.9 2-2V5c0-1.1-.9-2-2-2zM9 17H7v-7h2v7zm4 0h-2V7h2v10zm4 0h-2v-4h2v4z\"/>\n",
              "    </g>\n",
              "</svg>\n",
              "  </button>\n",
              "\n",
              "<style>\n",
              "  .colab-df-quickchart {\n",
              "      --bg-color: #E8F0FE;\n",
              "      --fill-color: #1967D2;\n",
              "      --hover-bg-color: #E2EBFA;\n",
              "      --hover-fill-color: #174EA6;\n",
              "      --disabled-fill-color: #AAA;\n",
              "      --disabled-bg-color: #DDD;\n",
              "  }\n",
              "\n",
              "  [theme=dark] .colab-df-quickchart {\n",
              "      --bg-color: #3B4455;\n",
              "      --fill-color: #D2E3FC;\n",
              "      --hover-bg-color: #434B5C;\n",
              "      --hover-fill-color: #FFFFFF;\n",
              "      --disabled-bg-color: #3B4455;\n",
              "      --disabled-fill-color: #666;\n",
              "  }\n",
              "\n",
              "  .colab-df-quickchart {\n",
              "    background-color: var(--bg-color);\n",
              "    border: none;\n",
              "    border-radius: 50%;\n",
              "    cursor: pointer;\n",
              "    display: none;\n",
              "    fill: var(--fill-color);\n",
              "    height: 32px;\n",
              "    padding: 0;\n",
              "    width: 32px;\n",
              "  }\n",
              "\n",
              "  .colab-df-quickchart:hover {\n",
              "    background-color: var(--hover-bg-color);\n",
              "    box-shadow: 0 1px 2px rgba(60, 64, 67, 0.3), 0 1px 3px 1px rgba(60, 64, 67, 0.15);\n",
              "    fill: var(--button-hover-fill-color);\n",
              "  }\n",
              "\n",
              "  .colab-df-quickchart-complete:disabled,\n",
              "  .colab-df-quickchart-complete:disabled:hover {\n",
              "    background-color: var(--disabled-bg-color);\n",
              "    fill: var(--disabled-fill-color);\n",
              "    box-shadow: none;\n",
              "  }\n",
              "\n",
              "  .colab-df-spinner {\n",
              "    border: 2px solid var(--fill-color);\n",
              "    border-color: transparent;\n",
              "    border-bottom-color: var(--fill-color);\n",
              "    animation:\n",
              "      spin 1s steps(1) infinite;\n",
              "  }\n",
              "\n",
              "  @keyframes spin {\n",
              "    0% {\n",
              "      border-color: transparent;\n",
              "      border-bottom-color: var(--fill-color);\n",
              "      border-left-color: var(--fill-color);\n",
              "    }\n",
              "    20% {\n",
              "      border-color: transparent;\n",
              "      border-left-color: var(--fill-color);\n",
              "      border-top-color: var(--fill-color);\n",
              "    }\n",
              "    30% {\n",
              "      border-color: transparent;\n",
              "      border-left-color: var(--fill-color);\n",
              "      border-top-color: var(--fill-color);\n",
              "      border-right-color: var(--fill-color);\n",
              "    }\n",
              "    40% {\n",
              "      border-color: transparent;\n",
              "      border-right-color: var(--fill-color);\n",
              "      border-top-color: var(--fill-color);\n",
              "    }\n",
              "    60% {\n",
              "      border-color: transparent;\n",
              "      border-right-color: var(--fill-color);\n",
              "    }\n",
              "    80% {\n",
              "      border-color: transparent;\n",
              "      border-right-color: var(--fill-color);\n",
              "      border-bottom-color: var(--fill-color);\n",
              "    }\n",
              "    90% {\n",
              "      border-color: transparent;\n",
              "      border-bottom-color: var(--fill-color);\n",
              "    }\n",
              "  }\n",
              "</style>\n",
              "\n",
              "  <script>\n",
              "    async function quickchart(key) {\n",
              "      const quickchartButtonEl =\n",
              "        document.querySelector('#' + key + ' button');\n",
              "      quickchartButtonEl.disabled = true;  // To prevent multiple clicks.\n",
              "      quickchartButtonEl.classList.add('colab-df-spinner');\n",
              "      try {\n",
              "        const charts = await google.colab.kernel.invokeFunction(\n",
              "            'suggestCharts', [key], {});\n",
              "      } catch (error) {\n",
              "        console.error('Error during call to suggestCharts:', error);\n",
              "      }\n",
              "      quickchartButtonEl.classList.remove('colab-df-spinner');\n",
              "      quickchartButtonEl.classList.add('colab-df-quickchart-complete');\n",
              "    }\n",
              "    (() => {\n",
              "      let quickchartButtonEl =\n",
              "        document.querySelector('#df-08bb5e64-6e30-4532-bc96-5e59b2875de9 button');\n",
              "      quickchartButtonEl.style.display =\n",
              "        google.colab.kernel.accessAllowed ? 'block' : 'none';\n",
              "    })();\n",
              "  </script>\n",
              "</div>\n",
              "    </div>\n",
              "  </div>\n"
            ]
          },
          "metadata": {},
          "execution_count": 5
        }
      ]
    },
    {
      "cell_type": "code",
      "source": [
        "msno.matrix(df)\n"
      ],
      "metadata": {
        "colab": {
          "base_uri": "https://localhost:8080/",
          "height": 775
        },
        "id": "ap_S-0U_2uc6",
        "outputId": "4352ce30-2ef2-4dad-9865-10df55a78c91"
      },
      "execution_count": 6,
      "outputs": [
        {
          "output_type": "execute_result",
          "data": {
            "text/plain": [
              "<Axes: >"
            ]
          },
          "metadata": {},
          "execution_count": 6
        },
        {
          "output_type": "display_data",
          "data": {
            "text/plain": [
              "<Figure size 2500x1000 with 2 Axes>"
            ],
            "image/png": "[encoded data removed]"
          },
          "metadata": {}
        }
      ]
    },
    {
      "cell_type": "code",
      "source": [
        "df = df.drop(df.columns.difference(['airline_sentiment','text']), axis=1)"
      ],
      "metadata": {
        "id": "ZIdpB7bPCXzU"
      },
      "execution_count": 7,
      "outputs": []
    },
    {
      "cell_type": "code",
      "source": [
        "df.info()"
      ],
      "metadata": {
        "colab": {
          "base_uri": "https://localhost:8080/"
        },
        "id": "udaXkyK-8NuF",
        "outputId": "e1f67377-e6f1-4084-fcfd-595c97387aa8"
      },
      "execution_count": 8,
      "outputs": [
        {
          "output_type": "stream",
          "name": "stdout",
          "text": [
            "<class 'pandas.core.frame.DataFrame'>\n",
            "RangeIndex: 14640 entries, 0 to 14639\n",
            "Data columns (total 2 columns):\n",
            " #   Column             Non-Null Count  Dtype \n",
            "---  ------             --------------  ----- \n",
            " 0   airline_sentiment  14640 non-null  object\n",
            " 1   text               14640 non-null  object\n",
            "dtypes: object(2)\n",
            "memory usage: 228.9+ KB\n"
          ]
        }
      ]
    },
    {
      "cell_type": "markdown",
      "source": [
        "## Data Preprocesing & Cleaning\n",
        "\n",
        "Text preprocessing steps include a few essential tasks to further clean the available text data. It includes tasks like:-\n",
        "\n",
        "* **Stop-Word Removal** : In English words like a, an, the, as, in, on, etc. are considered as stop-words so according to our requirements we can remove them to reduce vocabulary size as these words don't have some specific meaning\n",
        "\n",
        "* **Lower Casing** : Convert all words into the lower case because the upper or lower case may not make a difference for the problem. And we are reducing vocabulary size by doing so.\n",
        "\n",
        "* **Stemming** : Stemming refers to the process of removing suffixes and reducing a word to some base form such that all different variants of that word can be represented by the same form (e.g., “walk” and “walking” are both reduced to “walk”).\n",
        "\n",
        "* **Tokenization** : NLP software typically analyzes text by breaking it up into words (tokens) and sentences.\n",
        "\n",
        "**PS:** The following code is not exhustive for how to clean code etc. A lot more can be done."
      ],
      "metadata": {
        "id": "LLgBi6Sa4iqF"
      }
    },
    {
      "cell_type": "code",
      "source": [
        "tweet_tokenizer = TweetTokenizer()\n",
        "lemm = WordNetLemmatizer()\n",
        "\n",
        "def remove_mentions(text):\n",
        "  return re.sub(r'@\\w+', '', text)\n",
        "\n",
        "def remove_urls(text):\n",
        "  return re.sub(r'http.?://[^\\s]+[\\s]?', '', text)\n",
        "\n",
        "def only_characters(text):\n",
        "  return re.sub('[^a-zA-Z\\s]', '', text)\n",
        "\n",
        "def remove_extra_spaces(text):\n",
        "  text = re.sub(\"\\s+\", ' ', text)\n",
        "  text = text.lstrip()\n",
        "  return text.rstrip()\n",
        "\n",
        "def to_lower(text):\n",
        "  return text.lower()\n",
        "\n",
        "def fix_words(text):\n",
        "  text = re.sub(r'\\bthx\\b', 'thanks', text)\n",
        "  text = re.sub(r'\\bu\\b', 'you', text)\n",
        "  text = re.sub(r'\\bhrs\\b', 'hours', text)\n",
        "  text = re.sub(r'\\baa\\b', 'a', text)\n",
        "  text = re.sub(r'\\bflightr\\b', 'flight', text)\n",
        "  text = re.sub(r'\\bur\\b', 'your', text)\n",
        "  text = re.sub(r'\\bhr\\b', 'hour', text)\n",
        "  text = re.sub(r'\\bthru\\b', 'through', text)\n",
        "  text = re.sub(r'\\br\\b', 'are', text)\n",
        "  text = re.sub(r'\\bppl\\b', 'people', text)\n",
        "  text = re.sub(r'\\btix\\b', 'fix', text)\n",
        "  text = re.sub(r'\\bplz\\b', 'please', text)\n",
        "  text = re.sub(r'\\bflightd\\b', 'flighted', text)\n",
        "  text = re.sub(r'\\btmrw\\b', 'tomorrow', text)\n",
        "  text = re.sub(r'\\bthx\\b', 'thanks', text)\n",
        "  text = re.sub(r'\\bpls\\b', 'please', text)\n",
        "  text = re.sub(r'\\bfyi\\b', 'for your information', text)\n",
        "\n",
        "  text = re.sub(r'\\bheyyyy\\b', 'hey', text)\n",
        "  text = re.sub(r'\\bguyyyys\\b', 'guys', text)\n",
        "  text = re.sub(r'\\byall\\b', 'you all', text)\n",
        "  text = re.sub(r'\\basap\\b', 'as soon as possible', text)\n",
        "  text = re.sub(r'\\bbtw\\b', 'by the way', text)\n",
        "  text = re.sub(r'\\bdm\\b', 'direct message', text)\n",
        "  text = re.sub(r'\\bcudtomers\\b', 'customers', text)\n",
        "  text = re.sub(r'\\bwtf\\b', 'what the fuck', text)\n",
        "  text = re.sub(r'\\biphone\\b', 'phone', text)\n",
        "  text = re.sub(r'\\bmins\\b', 'minutes', text)\n",
        "  text = re.sub(r'\\btv\\b', 'television', text)\n",
        "  text = re.sub(r'\\bokay\\b', 'ok', text)\n",
        "  text = re.sub(r'\\bfeb\\b', 'february', text)\n",
        "  text = re.sub(r'\\byr\\b', 'year', text)\n",
        "  text = re.sub(r'\\bshes\\b', 'she is', text)\n",
        "  text = re.sub(r'\\bnope\\b', 'no', text)\n",
        "  text = re.sub(r'\\bhes\\b', 'he is', text)\n",
        "  text = re.sub(r'\\btill\\b', 'until', text)\n",
        "  text = re.sub(r'\\bomg\\b', 'oh my god', text)\n",
        "  text = re.sub(r'\\btho\\b', 'though', text)\n",
        "  text = re.sub(r'\\bnothappy\\b', 'not happy', text)\n",
        "\n",
        "  return re.sub(r'\\bthankyou\\b', 'thank you', text)\n",
        "\n",
        "stop = set(stopwords.words('english'))\n",
        "stop.update(['amp', 'rt', 'cc'])\n",
        "stop = stop - set(['no', 'not'])\n",
        "\n",
        "def remove_stopwords(row):\n",
        "    return [token for token in row if token not in stop]\n",
        "\n",
        "def clean_text(text):\n",
        "\n",
        "  cleaning_metods = [remove_mentions, remove_urls, only_characters, remove_extra_spaces, to_lower, fix_words]\n",
        "  for fn in cleaning_metods:\n",
        "    text = fn(text)\n",
        "\n",
        "  tokens = tweet_tokenizer.tokenize(text)\n",
        "\n",
        "  tokens = remove_stopwords(tokens)\n",
        "\n",
        "  stemmed =[lemm.lemmatize(token) for token in tokens if token not in list(punctuation) and len(token)>2]\n",
        "  stemmed_tokens = [token for token in stemmed if token.isalpha()]\n",
        "\n",
        "  clean_text = ' '.join(stemmed_tokens)\n",
        "\n",
        "  return clean_text"
      ],
      "metadata": {
        "id": "aq8WkT0v4loJ"
      },
      "execution_count": 9,
      "outputs": []
    },
    {
      "cell_type": "code",
      "source": [
        "# remove all neutral tweets\n",
        "# df = df[df['airline_sentiment']!='neutral']"
      ],
      "metadata": {
        "id": "mM_hdhCQnX5m"
      },
      "execution_count": 10,
      "outputs": []
    },
    {
      "cell_type": "code",
      "source": [],
      "metadata": {
        "id": "GOHGUy8tl6QD"
      },
      "execution_count": 10,
      "outputs": []
    },
    {
      "cell_type": "code",
      "source": [
        "df['clean_text'] = df['text'].apply(clean_text)\n"
      ],
      "metadata": {
        "id": "TQCGr2cY5CK4"
      },
      "execution_count": 11,
      "outputs": []
    },
    {
      "cell_type": "code",
      "source": [
        "pd.set_option('display.max_colwidth', None)\n",
        "\n",
        "df[['text', 'clean_text']].head(-10)"
      ],
      "metadata": {
        "id": "OvlXNJAG5XHy",
        "colab": {
          "base_uri": "https://localhost:8080/",
          "height": 436
        },
        "outputId": "0954ade5-93ea-4325-c1fd-8cefe07102ee"
      },
      "execution_count": 12,
      "outputs": [
        {
          "output_type": "execute_result",
          "data": {
            "text/plain": [
              "                                                                                                                                                 text  \\\n",
              "0                                                                                                                 @VirginAmerica What @dhepburn said.   \n",
              "1                                                                            @VirginAmerica plus you've added commercials to the experience... tacky.   \n",
              "2                                                                             @VirginAmerica I didn't today... Must mean I need to take another trip!   \n",
              "3                      @VirginAmerica it's really aggressive to blast obnoxious \"entertainment\" in your guests' faces &amp; they have little recourse   \n",
              "4                                                                                             @VirginAmerica and it's a really big bad thing about it   \n",
              "...                                                                                                                                               ...   \n",
              "14625                                      @AmericanAir Flight 236 was great. Fantastic cabin crew. A+ landing. #thankyou #JFK http://t.co/dRW08djHAI   \n",
              "14626           @AmericanAir Flight 953 NYC-Buenos Aires has been delay since yesterday at 10PM. Is going to take off at 3.30PM now? Give us answers!   \n",
              "14627  @AmericanAir Flight Cancelled Flightled, can't go home until tomorrow. I could use dinner and a play, @AmericanAir! It's my first time in NYC.   \n",
              "14628                          Thank you. “@AmericanAir: @jlhalldc Customer Relations will review your concerns and contact you back directly, John.”   \n",
              "14629                                  @AmericanAir How do I change my flight if the phone system keeps telling me that the representatives are busy?   \n",
              "\n",
              "                                                                               clean_text  \n",
              "0                                                                                    said  \n",
              "1                                            plus youve added commercial experience tacky  \n",
              "2                                            didnt today must mean need take another trip  \n",
              "3              really aggressive blast obnoxious entertainment guest face little recourse  \n",
              "4                                                                    really big bad thing  \n",
              "...                                                                                   ...  \n",
              "14625                                 flight great fantastic cabin crew landing thank jfk  \n",
              "14626                  flight nycbuenos aire delay since yesterday going take give answer  \n",
              "14627  flight cancelled flightled cant home tomorrow could use dinner play first time nyc  \n",
              "14628                   thank customer relation review concern contact back directly john  \n",
              "14629                         change flight phone system keep telling representative busy  \n",
              "\n",
              "[14630 rows x 2 columns]"
            ],
            "text/html": [
              "\n",
              "  <div id=\"df-a2534322-aea8-4f2e-9b4a-3493ab07504d\" class=\"colab-df-container\">\n",
              "    <div>\n",
              "<style scoped>\n",
              "    .dataframe tbody tr th:only-of-type {\n",
              "        vertical-align: middle;\n",
              "    }\n",
              "\n",
              "    .dataframe tbody tr th {\n",
              "        vertical-align: top;\n",
              "    }\n",
              "\n",
              "    .dataframe thead th {\n",
              "        text-align: right;\n",
              "    }\n",
              "</style>\n",
              "<table border=\"1\" class=\"dataframe\">\n",
              "  <thead>\n",
              "    <tr style=\"text-align: right;\">\n",
              "      <th></th>\n",
              "      <th>text</th>\n",
              "      <th>clean_text</th>\n",
              "    </tr>\n",
              "  </thead>\n",
              "  <tbody>\n",
              "    <tr>\n",
              "      <th>0</th>\n",
              "      <td>@VirginAmerica What @dhepburn said.</td>\n",
              "      <td>said</td>\n",
              "    </tr>\n",
              "    <tr>\n",
              "      <th>1</th>\n",
              "      <td>@VirginAmerica plus you've added commercials to the experience... tacky.</td>\n",
              "      <td>plus youve added commercial experience tacky</td>\n",
              "    </tr>\n",
              "    <tr>\n",
              "      <th>2</th>\n",
              "      <td>@VirginAmerica I didn't today... Must mean I need to take another trip!</td>\n",
              "      <td>didnt today must mean need take another trip</td>\n",
              "    </tr>\n",
              "    <tr>\n",
              "      <th>3</th>\n",
              "      <td>@VirginAmerica it's really aggressive to blast obnoxious \"entertainment\" in your guests' faces &amp;amp; they have little recourse</td>\n",
              "      <td>really aggressive blast obnoxious entertainment guest face little recourse</td>\n",
              "    </tr>\n",
              "    <tr>\n",
              "      <th>4</th>\n",
              "      <td>@VirginAmerica and it's a really big bad thing about it</td>\n",
              "      <td>really big bad thing</td>\n",
              "    </tr>\n",
              "    <tr>\n",
              "      <th>...</th>\n",
              "      <td>...</td>\n",
              "      <td>...</td>\n",
              "    </tr>\n",
              "    <tr>\n",
              "      <th>14625</th>\n",
              "      <td>@AmericanAir Flight 236 was great. Fantastic cabin crew. A+ landing. #thankyou #JFK http://t.co/dRW08djHAI</td>\n",
              "      <td>flight great fantastic cabin crew landing thank jfk</td>\n",
              "    </tr>\n",
              "    <tr>\n",
              "      <th>14626</th>\n",
              "      <td>@AmericanAir Flight 953 NYC-Buenos Aires has been delay since yesterday at 10PM. Is going to take off at 3.30PM now? Give us answers!</td>\n",
              "      <td>flight nycbuenos aire delay since yesterday going take give answer</td>\n",
              "    </tr>\n",
              "    <tr>\n",
              "      <th>14627</th>\n",
              "      <td>@AmericanAir Flight Cancelled Flightled, can't go home until tomorrow. I could use dinner and a play, @AmericanAir! It's my first time in NYC.</td>\n",
              "      <td>flight cancelled flightled cant home tomorrow could use dinner play first time nyc</td>\n",
              "    </tr>\n",
              "    <tr>\n",
              "      <th>14628</th>\n",
              "      <td>Thank you. “@AmericanAir: @jlhalldc Customer Relations will review your concerns and contact you back directly, John.”</td>\n",
              "      <td>thank customer relation review concern contact back directly john</td>\n",
              "    </tr>\n",
              "    <tr>\n",
              "      <th>14629</th>\n",
              "      <td>@AmericanAir How do I change my flight if the phone system keeps telling me that the representatives are busy?</td>\n",
              "      <td>change flight phone system keep telling representative busy</td>\n",
              "    </tr>\n",
              "  </tbody>\n",
              "</table>\n",
              "<p>14630 rows × 2 columns</p>\n",
              "</div>\n",
              "    <div class=\"colab-df-buttons\">\n",
              "\n",
              "  <div class=\"colab-df-container\">\n",
              "    <button class=\"colab-df-convert\" onclick=\"convertToInteractive('df-a2534322-aea8-4f2e-9b4a-3493ab07504d')\"\n",
              "            title=\"Convert this dataframe to an interactive table.\"\n",
              "            style=\"display:none;\">\n",
              "\n",
              "  <svg xmlns=\"http://www.w3.org/2000/svg\" height=\"24px\" viewBox=\"0 -960 960 960\">\n",
              "    <path d=\"M120-120v-720h720v720H120Zm60-500h600v-160H180v160Zm220 220h160v-160H400v160Zm0 220h160v-160H400v160ZM180-400h160v-160H180v160Zm440 0h160v-160H620v160ZM180-180h160v-160H180v160Zm440 0h160v-160H620v160Z\"/>\n",
              "  </svg>\n",
              "    </button>\n",
              "\n",
              "  <style>\n",
              "    .colab-df-container {\n",
              "      display:flex;\n",
              "      gap: 12px;\n",
              "    }\n",
              "\n",
              "    .colab-df-convert {\n",
              "      background-color: #E8F0FE;\n",
              "      border: none;\n",
              "      border-radius: 50%;\n",
              "      cursor: pointer;\n",
              "      display: none;\n",
              "      fill: #1967D2;\n",
              "      height: 32px;\n",
              "      padding: 0 0 0 0;\n",
              "      width: 32px;\n",
              "    }\n",
              "\n",
              "    .colab-df-convert:hover {\n",
              "      background-color: #E2EBFA;\n",
              "      box-shadow: 0px 1px 2px rgba(60, 64, 67, 0.3), 0px 1px 3px 1px rgba(60, 64, 67, 0.15);\n",
              "      fill: #174EA6;\n",
              "    }\n",
              "\n",
              "    .colab-df-buttons div {\n",
              "      margin-bottom: 4px;\n",
              "    }\n",
              "\n",
              "    [theme=dark] .colab-df-convert {\n",
              "      background-color: #3B4455;\n",
              "      fill: #D2E3FC;\n",
              "    }\n",
              "\n",
              "    [theme=dark] .colab-df-convert:hover {\n",
              "      background-color: #434B5C;\n",
              "      box-shadow: 0px 1px 3px 1px rgba(0, 0, 0, 0.15);\n",
              "      filter: drop-shadow(0px 1px 2px rgba(0, 0, 0, 0.3));\n",
              "      fill: #FFFFFF;\n",
              "    }\n",
              "  </style>\n",
              "\n",
              "    <script>\n",
              "      const buttonEl =\n",
              "        document.querySelector('#df-a2534322-aea8-4f2e-9b4a-3493ab07504d button.colab-df-convert');\n",
              "      buttonEl.style.display =\n",
              "        google.colab.kernel.accessAllowed ? 'block' : 'none';\n",
              "\n",
              "      async function convertToInteractive(key) {\n",
              "        const element = document.querySelector('#df-a2534322-aea8-4f2e-9b4a-3493ab07504d');\n",
              "        const dataTable =\n",
              "          await google.colab.kernel.invokeFunction('convertToInteractive',\n",
              "                                                    [key], {});\n",
              "        if (!dataTable) return;\n",
              "\n",
              "        const docLinkHtml = 'Like what you see? Visit the ' +\n",
              "          '<a target=\"_blank\" href=https://colab.research.google.com/notebooks/data_table.ipynb>data table notebook</a>'\n",
              "          + ' to learn more about interactive tables.';\n",
              "        element.innerHTML = '';\n",
              "        dataTable['output_type'] = 'display_data';\n",
              "        await google.colab.output.renderOutput(dataTable, element);\n",
              "        const docLink = document.createElement('div');\n",
              "        docLink.innerHTML = docLinkHtml;\n",
              "        element.appendChild(docLink);\n",
              "      }\n",
              "    </script>\n",
              "  </div>\n",
              "\n",
              "\n",
              "<div id=\"df-b8517d73-26c3-4894-9a8e-6ac66ae3cdf9\">\n",
              "  <button class=\"colab-df-quickchart\" onclick=\"quickchart('df-b8517d73-26c3-4894-9a8e-6ac66ae3cdf9')\"\n",
              "            title=\"Suggest charts\"\n",
              "            style=\"display:none;\">\n",
              "\n",
              "<svg xmlns=\"http://www.w3.org/2000/svg\" height=\"24px\"viewBox=\"0 0 24 24\"\n",
              "     width=\"24px\">\n",
              "    <g>\n",
              "        <path d=\"M19 3H5c-1.1 0-2 .9-2 2v14c0 1.1.9 2 2 2h14c1.1 0 2-.9 2-2V5c0-1.1-.9-2-2-2zM9 17H7v-7h2v7zm4 0h-2V7h2v10zm4 0h-2v-4h2v4z\"/>\n",
              "    </g>\n",
              "</svg>\n",
              "  </button>\n",
              "\n",
              "<style>\n",
              "  .colab-df-quickchart {\n",
              "      --bg-color: #E8F0FE;\n",
              "      --fill-color: #1967D2;\n",
              "      --hover-bg-color: #E2EBFA;\n",
              "      --hover-fill-color: #174EA6;\n",
              "      --disabled-fill-color: #AAA;\n",
              "      --disabled-bg-color: #DDD;\n",
              "  }\n",
              "\n",
              "  [theme=dark] .colab-df-quickchart {\n",
              "      --bg-color: #3B4455;\n",
              "      --fill-color: #D2E3FC;\n",
              "      --hover-bg-color: #434B5C;\n",
              "      --hover-fill-color: #FFFFFF;\n",
              "      --disabled-bg-color: #3B4455;\n",
              "      --disabled-fill-color: #666;\n",
              "  }\n",
              "\n",
              "  .colab-df-quickchart {\n",
              "    background-color: var(--bg-color);\n",
              "    border: none;\n",
              "    border-radius: 50%;\n",
              "    cursor: pointer;\n",
              "    display: none;\n",
              "    fill: var(--fill-color);\n",
              "    height: 32px;\n",
              "    padding: 0;\n",
              "    width: 32px;\n",
              "  }\n",
              "\n",
              "  .colab-df-quickchart:hover {\n",
              "    background-color: var(--hover-bg-color);\n",
              "    box-shadow: 0 1px 2px rgba(60, 64, 67, 0.3), 0 1px 3px 1px rgba(60, 64, 67, 0.15);\n",
              "    fill: var(--button-hover-fill-color);\n",
              "  }\n",
              "\n",
              "  .colab-df-quickchart-complete:disabled,\n",
              "  .colab-df-quickchart-complete:disabled:hover {\n",
              "    background-color: var(--disabled-bg-color);\n",
              "    fill: var(--disabled-fill-color);\n",
              "    box-shadow: none;\n",
              "  }\n",
              "\n",
              "  .colab-df-spinner {\n",
              "    border: 2px solid var(--fill-color);\n",
              "    border-color: transparent;\n",
              "    border-bottom-color: var(--fill-color);\n",
              "    animation:\n",
              "      spin 1s steps(1) infinite;\n",
              "  }\n",
              "\n",
              "  @keyframes spin {\n",
              "    0% {\n",
              "      border-color: transparent;\n",
              "      border-bottom-color: var(--fill-color);\n",
              "      border-left-color: var(--fill-color);\n",
              "    }\n",
              "    20% {\n",
              "      border-color: transparent;\n",
              "      border-left-color: var(--fill-color);\n",
              "      border-top-color: var(--fill-color);\n",
              "    }\n",
              "    30% {\n",
              "      border-color: transparent;\n",
              "      border-left-color: var(--fill-color);\n",
              "      border-top-color: var(--fill-color);\n",
              "      border-right-color: var(--fill-color);\n",
              "    }\n",
              "    40% {\n",
              "      border-color: transparent;\n",
              "      border-right-color: var(--fill-color);\n",
              "      border-top-color: var(--fill-color);\n",
              "    }\n",
              "    60% {\n",
              "      border-color: transparent;\n",
              "      border-right-color: var(--fill-color);\n",
              "    }\n",
              "    80% {\n",
              "      border-color: transparent;\n",
              "      border-right-color: var(--fill-color);\n",
              "      border-bottom-color: var(--fill-color);\n",
              "    }\n",
              "    90% {\n",
              "      border-color: transparent;\n",
              "      border-bottom-color: var(--fill-color);\n",
              "    }\n",
              "  }\n",
              "</style>\n",
              "\n",
              "  <script>\n",
              "    async function quickchart(key) {\n",
              "      const quickchartButtonEl =\n",
              "        document.querySelector('#' + key + ' button');\n",
              "      quickchartButtonEl.disabled = true;  // To prevent multiple clicks.\n",
              "      quickchartButtonEl.classList.add('colab-df-spinner');\n",
              "      try {\n",
              "        const charts = await google.colab.kernel.invokeFunction(\n",
              "            'suggestCharts', [key], {});\n",
              "      } catch (error) {\n",
              "        console.error('Error during call to suggestCharts:', error);\n",
              "      }\n",
              "      quickchartButtonEl.classList.remove('colab-df-spinner');\n",
              "      quickchartButtonEl.classList.add('colab-df-quickchart-complete');\n",
              "    }\n",
              "    (() => {\n",
              "      let quickchartButtonEl =\n",
              "        document.querySelector('#df-b8517d73-26c3-4894-9a8e-6ac66ae3cdf9 button');\n",
              "      quickchartButtonEl.style.display =\n",
              "        google.colab.kernel.accessAllowed ? 'block' : 'none';\n",
              "    })();\n",
              "  </script>\n",
              "</div>\n",
              "    </div>\n",
              "  </div>\n"
            ]
          },
          "metadata": {},
          "execution_count": 12
        }
      ]
    },
    {
      "cell_type": "code",
      "source": [],
      "metadata": {
        "id": "ga_Tcba25tSS"
      },
      "execution_count": 12,
      "outputs": []
    },
    {
      "cell_type": "markdown",
      "source": [
        "## Sentiment Prediction with Vader"
      ],
      "metadata": {
        "id": "ZF67N9ZV53Lb"
      }
    },
    {
      "cell_type": "markdown",
      "source": [
        "Checking the distribution of airline sentiments"
      ],
      "metadata": {
        "id": "DoBKyuOSyBm8"
      }
    },
    {
      "cell_type": "code",
      "source": [
        "df['airline_sentiment'].value_counts()"
      ],
      "metadata": {
        "colab": {
          "base_uri": "https://localhost:8080/"
        },
        "id": "TJsrD-c7x5Af",
        "outputId": "c45503d0-1e70-411e-c511-28ba4aa896c2"
      },
      "execution_count": 13,
      "outputs": [
        {
          "output_type": "execute_result",
          "data": {
            "text/plain": [
              "negative    9178\n",
              "neutral     3099\n",
              "positive    2363\n",
              "Name: airline_sentiment, dtype: int64"
            ]
          },
          "metadata": {},
          "execution_count": 13
        }
      ]
    },
    {
      "cell_type": "markdown",
      "source": [
        "**Implement VADER Sentiment Analysis**"
      ],
      "metadata": {
        "id": "XGLWuw-dBRFO"
      }
    },
    {
      "cell_type": "code",
      "source": [
        "sent_analyzer = SentimentIntensityAnalyzer() # vader\n",
        "\n",
        "def format_output(output_dict):\n",
        "\n",
        "    polarity = \"neutral\"\n",
        "\n",
        "    if(output_dict['compound']>= 0.05):\n",
        "        polarity = \"positive\"\n",
        "\n",
        "    elif(output_dict['compound']<= -0.05):\n",
        "        polarity = \"negative\"\n",
        "\n",
        "    return polarity\n",
        "\n",
        "\n",
        "def predict_sentiment(text):\n",
        "\n",
        "    output_dict =  sent_analyzer.polarity_scores(text)\n",
        "    return format_output(output_dict)\n"
      ],
      "metadata": {
        "id": "fPnznisd58m7"
      },
      "execution_count": 14,
      "outputs": []
    },
    {
      "cell_type": "code",
      "source": [
        "df[\"vader_prediction\"] = df[\"clean_text\"].apply(predict_sentiment)"
      ],
      "metadata": {
        "id": "dbZciATV6PV6"
      },
      "execution_count": 15,
      "outputs": []
    },
    {
      "cell_type": "code",
      "source": [
        "df = df[['text', 'clean_text', 'airline_sentiment', 'vader_prediction']]"
      ],
      "metadata": {
        "id": "lFckW814DxSs"
      },
      "execution_count": 16,
      "outputs": []
    },
    {
      "cell_type": "code",
      "source": [
        "df.sample(5)"
      ],
      "metadata": {
        "colab": {
          "base_uri": "https://localhost:8080/",
          "height": 221
        },
        "id": "Nf5Oix5D6hKO",
        "outputId": "f341a304-a764-4f1a-ca9f-2d7cdc3053ce"
      },
      "execution_count": 17,
      "outputs": [
        {
          "output_type": "execute_result",
          "data": {
            "text/plain": [
              "                                                                                                                            text  \\\n",
              "7507   @JetBlue Flight 1562 had a 4 1/2 hour weather delay, but what is the 45 minute delay in getting bags to tired passengers?   \n",
              "9628                            @USAirways three hour wait and counting waiting for reservations on the phone. Are you serious!?   \n",
              "9813                            @USAirways we've been waiting at the gate for 2 hrs, why are we now waiting to stow the luggage?   \n",
              "10714                                                       @USAirways This is the last time I use your airline. I promise that!   \n",
              "11305                                           @USAirways is the real MVP for holding up the flight connecting Philly to Tampa.   \n",
              "\n",
              "                                                               clean_text  \\\n",
              "7507   flight hour weather delay minute delay getting bag tired passenger   \n",
              "9628           three hour wait counting waiting reservation phone serious   \n",
              "9813                          weve waiting gate hour waiting stow luggage   \n",
              "10714                                       last time use airline promise   \n",
              "11305                     real mvp holding flight connecting philly tampa   \n",
              "\n",
              "      airline_sentiment vader_prediction  \n",
              "7507           negative         negative  \n",
              "9628           negative         negative  \n",
              "9813           negative          neutral  \n",
              "10714          negative         positive  \n",
              "11305          negative          neutral  "
            ],
            "text/html": [
              "\n",
              "  <div id=\"df-1e8265f3-788a-437d-933d-72d4b4f16a6d\" class=\"colab-df-container\">\n",
              "    <div>\n",
              "<style scoped>\n",
              "    .dataframe tbody tr th:only-of-type {\n",
              "        vertical-align: middle;\n",
              "    }\n",
              "\n",
              "    .dataframe tbody tr th {\n",
              "        vertical-align: top;\n",
              "    }\n",
              "\n",
              "    .dataframe thead th {\n",
              "        text-align: right;\n",
              "    }\n",
              "</style>\n",
              "<table border=\"1\" class=\"dataframe\">\n",
              "  <thead>\n",
              "    <tr style=\"text-align: right;\">\n",
              "      <th></th>\n",
              "      <th>text</th>\n",
              "      <th>clean_text</th>\n",
              "      <th>airline_sentiment</th>\n",
              "      <th>vader_prediction</th>\n",
              "    </tr>\n",
              "  </thead>\n",
              "  <tbody>\n",
              "    <tr>\n",
              "      <th>7507</th>\n",
              "      <td>@JetBlue Flight 1562 had a 4 1/2 hour weather delay, but what is the 45 minute delay in getting bags to tired passengers?</td>\n",
              "      <td>flight hour weather delay minute delay getting bag tired passenger</td>\n",
              "      <td>negative</td>\n",
              "      <td>negative</td>\n",
              "    </tr>\n",
              "    <tr>\n",
              "      <th>9628</th>\n",
              "      <td>@USAirways three hour wait and counting waiting for reservations on the phone. Are you serious!?</td>\n",
              "      <td>three hour wait counting waiting reservation phone serious</td>\n",
              "      <td>negative</td>\n",
              "      <td>negative</td>\n",
              "    </tr>\n",
              "    <tr>\n",
              "      <th>9813</th>\n",
              "      <td>@USAirways we've been waiting at the gate for 2 hrs, why are we now waiting to stow the luggage?</td>\n",
              "      <td>weve waiting gate hour waiting stow luggage</td>\n",
              "      <td>negative</td>\n",
              "      <td>neutral</td>\n",
              "    </tr>\n",
              "    <tr>\n",
              "      <th>10714</th>\n",
              "      <td>@USAirways This is the last time I use your airline. I promise that!</td>\n",
              "      <td>last time use airline promise</td>\n",
              "      <td>negative</td>\n",
              "      <td>positive</td>\n",
              "    </tr>\n",
              "    <tr>\n",
              "      <th>11305</th>\n",
              "      <td>@USAirways is the real MVP for holding up the flight connecting Philly to Tampa.</td>\n",
              "      <td>real mvp holding flight connecting philly tampa</td>\n",
              "      <td>negative</td>\n",
              "      <td>neutral</td>\n",
              "    </tr>\n",
              "  </tbody>\n",
              "</table>\n",
              "</div>\n",
              "    <div class=\"colab-df-buttons\">\n",
              "\n",
              "  <div class=\"colab-df-container\">\n",
              "    <button class=\"colab-df-convert\" onclick=\"convertToInteractive('df-1e8265f3-788a-437d-933d-72d4b4f16a6d')\"\n",
              "            title=\"Convert this dataframe to an interactive table.\"\n",
              "            style=\"display:none;\">\n",
              "\n",
              "  <svg xmlns=\"http://www.w3.org/2000/svg\" height=\"24px\" viewBox=\"0 -960 960 960\">\n",
              "    <path d=\"M120-120v-720h720v720H120Zm60-500h600v-160H180v160Zm220 220h160v-160H400v160Zm0 220h160v-160H400v160ZM180-400h160v-160H180v160Zm440 0h160v-160H620v160ZM180-180h160v-160H180v160Zm440 0h160v-160H620v160Z\"/>\n",
              "  </svg>\n",
              "    </button>\n",
              "\n",
              "  <style>\n",
              "    .colab-df-container {\n",
              "      display:flex;\n",
              "      gap: 12px;\n",
              "    }\n",
              "\n",
              "    .colab-df-convert {\n",
              "      background-color: #E8F0FE;\n",
              "      border: none;\n",
              "      border-radius: 50%;\n",
              "      cursor: pointer;\n",
              "      display: none;\n",
              "      fill: #1967D2;\n",
              "      height: 32px;\n",
              "      padding: 0 0 0 0;\n",
              "      width: 32px;\n",
              "    }\n",
              "\n",
              "    .colab-df-convert:hover {\n",
              "      background-color: #E2EBFA;\n",
              "      box-shadow: 0px 1px 2px rgba(60, 64, 67, 0.3), 0px 1px 3px 1px rgba(60, 64, 67, 0.15);\n",
              "      fill: #174EA6;\n",
              "    }\n",
              "\n",
              "    .colab-df-buttons div {\n",
              "      margin-bottom: 4px;\n",
              "    }\n",
              "\n",
              "    [theme=dark] .colab-df-convert {\n",
              "      background-color: #3B4455;\n",
              "      fill: #D2E3FC;\n",
              "    }\n",
              "\n",
              "    [theme=dark] .colab-df-convert:hover {\n",
              "      background-color: #434B5C;\n",
              "      box-shadow: 0px 1px 3px 1px rgba(0, 0, 0, 0.15);\n",
              "      filter: drop-shadow(0px 1px 2px rgba(0, 0, 0, 0.3));\n",
              "      fill: #FFFFFF;\n",
              "    }\n",
              "  </style>\n",
              "\n",
              "    <script>\n",
              "      const buttonEl =\n",
              "        document.querySelector('#df-1e8265f3-788a-437d-933d-72d4b4f16a6d button.colab-df-convert');\n",
              "      buttonEl.style.display =\n",
              "        google.colab.kernel.accessAllowed ? 'block' : 'none';\n",
              "\n",
              "      async function convertToInteractive(key) {\n",
              "        const element = document.querySelector('#df-1e8265f3-788a-437d-933d-72d4b4f16a6d');\n",
              "        const dataTable =\n",
              "          await google.colab.kernel.invokeFunction('convertToInteractive',\n",
              "                                                    [key], {});\n",
              "        if (!dataTable) return;\n",
              "\n",
              "        const docLinkHtml = 'Like what you see? Visit the ' +\n",
              "          '<a target=\"_blank\" href=https://colab.research.google.com/notebooks/data_table.ipynb>data table notebook</a>'\n",
              "          + ' to learn more about interactive tables.';\n",
              "        element.innerHTML = '';\n",
              "        dataTable['output_type'] = 'display_data';\n",
              "        await google.colab.output.renderOutput(dataTable, element);\n",
              "        const docLink = document.createElement('div');\n",
              "        docLink.innerHTML = docLinkHtml;\n",
              "        element.appendChild(docLink);\n",
              "      }\n",
              "    </script>\n",
              "  </div>\n",
              "\n",
              "\n",
              "<div id=\"df-4068d449-c431-467b-925f-e9932fe5c20c\">\n",
              "  <button class=\"colab-df-quickchart\" onclick=\"quickchart('df-4068d449-c431-467b-925f-e9932fe5c20c')\"\n",
              "            title=\"Suggest charts\"\n",
              "            style=\"display:none;\">\n",
              "\n",
              "<svg xmlns=\"http://www.w3.org/2000/svg\" height=\"24px\"viewBox=\"0 0 24 24\"\n",
              "     width=\"24px\">\n",
              "    <g>\n",
              "        <path d=\"M19 3H5c-1.1 0-2 .9-2 2v14c0 1.1.9 2 2 2h14c1.1 0 2-.9 2-2V5c0-1.1-.9-2-2-2zM9 17H7v-7h2v7zm4 0h-2V7h2v10zm4 0h-2v-4h2v4z\"/>\n",
              "    </g>\n",
              "</svg>\n",
              "  </button>\n",
              "\n",
              "<style>\n",
              "  .colab-df-quickchart {\n",
              "      --bg-color: #E8F0FE;\n",
              "      --fill-color: #1967D2;\n",
              "      --hover-bg-color: #E2EBFA;\n",
              "      --hover-fill-color: #174EA6;\n",
              "      --disabled-fill-color: #AAA;\n",
              "      --disabled-bg-color: #DDD;\n",
              "  }\n",
              "\n",
              "  [theme=dark] .colab-df-quickchart {\n",
              "      --bg-color: #3B4455;\n",
              "      --fill-color: #D2E3FC;\n",
              "      --hover-bg-color: #434B5C;\n",
              "      --hover-fill-color: #FFFFFF;\n",
              "      --disabled-bg-color: #3B4455;\n",
              "      --disabled-fill-color: #666;\n",
              "  }\n",
              "\n",
              "  .colab-df-quickchart {\n",
              "    background-color: var(--bg-color);\n",
              "    border: none;\n",
              "    border-radius: 50%;\n",
              "    cursor: pointer;\n",
              "    display: none;\n",
              "    fill: var(--fill-color);\n",
              "    height: 32px;\n",
              "    padding: 0;\n",
              "    width: 32px;\n",
              "  }\n",
              "\n",
              "  .colab-df-quickchart:hover {\n",
              "    background-color: var(--hover-bg-color);\n",
              "    box-shadow: 0 1px 2px rgba(60, 64, 67, 0.3), 0 1px 3px 1px rgba(60, 64, 67, 0.15);\n",
              "    fill: var(--button-hover-fill-color);\n",
              "  }\n",
              "\n",
              "  .colab-df-quickchart-complete:disabled,\n",
              "  .colab-df-quickchart-complete:disabled:hover {\n",
              "    background-color: var(--disabled-bg-color);\n",
              "    fill: var(--disabled-fill-color);\n",
              "    box-shadow: none;\n",
              "  }\n",
              "\n",
              "  .colab-df-spinner {\n",
              "    border: 2px solid var(--fill-color);\n",
              "    border-color: transparent;\n",
              "    border-bottom-color: var(--fill-color);\n",
              "    animation:\n",
              "      spin 1s steps(1) infinite;\n",
              "  }\n",
              "\n",
              "  @keyframes spin {\n",
              "    0% {\n",
              "      border-color: transparent;\n",
              "      border-bottom-color: var(--fill-color);\n",
              "      border-left-color: var(--fill-color);\n",
              "    }\n",
              "    20% {\n",
              "      border-color: transparent;\n",
              "      border-left-color: var(--fill-color);\n",
              "      border-top-color: var(--fill-color);\n",
              "    }\n",
              "    30% {\n",
              "      border-color: transparent;\n",
              "      border-left-color: var(--fill-color);\n",
              "      border-top-color: var(--fill-color);\n",
              "      border-right-color: var(--fill-color);\n",
              "    }\n",
              "    40% {\n",
              "      border-color: transparent;\n",
              "      border-right-color: var(--fill-color);\n",
              "      border-top-color: var(--fill-color);\n",
              "    }\n",
              "    60% {\n",
              "      border-color: transparent;\n",
              "      border-right-color: var(--fill-color);\n",
              "    }\n",
              "    80% {\n",
              "      border-color: transparent;\n",
              "      border-right-color: var(--fill-color);\n",
              "      border-bottom-color: var(--fill-color);\n",
              "    }\n",
              "    90% {\n",
              "      border-color: transparent;\n",
              "      border-bottom-color: var(--fill-color);\n",
              "    }\n",
              "  }\n",
              "</style>\n",
              "\n",
              "  <script>\n",
              "    async function quickchart(key) {\n",
              "      const quickchartButtonEl =\n",
              "        document.querySelector('#' + key + ' button');\n",
              "      quickchartButtonEl.disabled = true;  // To prevent multiple clicks.\n",
              "      quickchartButtonEl.classList.add('colab-df-spinner');\n",
              "      try {\n",
              "        const charts = await google.colab.kernel.invokeFunction(\n",
              "            'suggestCharts', [key], {});\n",
              "      } catch (error) {\n",
              "        console.error('Error during call to suggestCharts:', error);\n",
              "      }\n",
              "      quickchartButtonEl.classList.remove('colab-df-spinner');\n",
              "      quickchartButtonEl.classList.add('colab-df-quickchart-complete');\n",
              "    }\n",
              "    (() => {\n",
              "      let quickchartButtonEl =\n",
              "        document.querySelector('#df-4068d449-c431-467b-925f-e9932fe5c20c button');\n",
              "      quickchartButtonEl.style.display =\n",
              "        google.colab.kernel.accessAllowed ? 'block' : 'none';\n",
              "    })();\n",
              "  </script>\n",
              "</div>\n",
              "    </div>\n",
              "  </div>\n"
            ]
          },
          "metadata": {},
          "execution_count": 17
        }
      ]
    },
    {
      "cell_type": "code",
      "source": [],
      "metadata": {
        "id": "AzvsYvSauGk9"
      },
      "execution_count": 17,
      "outputs": []
    },
    {
      "cell_type": "markdown",
      "source": [
        "### Inspect VADER Performance"
      ],
      "metadata": {
        "id": "0uQqbs6Cvp3n"
      }
    },
    {
      "cell_type": "code",
      "source": [
        "cfm = confusion_matrix(df['airline_sentiment'], df['vader_prediction'])\n",
        "df_confusion_matrix = pd.DataFrame(cfm, ('Negative', 'Neutral', 'Positive'), ('Negative', 'Neutral', 'Positive'))\n",
        "\n",
        "heatmap = sns.heatmap(df_confusion_matrix, annot=True, annot_kws={\"size\": 20}, fmt=\"d\")\n",
        "\n",
        "heatmap.yaxis.set_ticklabels(heatmap.yaxis.get_ticklabels(), rotation=0, ha='right', fontsize = 14)\n",
        "\n",
        "heatmap.xaxis.set_ticklabels(heatmap.xaxis.get_ticklabels(), rotation=0, ha='right', fontsize = 14)\n",
        "heatmap.xaxis.set_ticks_position('top')\n",
        "heatmap.xaxis.set_label_position('top')\n",
        "\n",
        "plt.ylabel('Actual / True label', fontsize = 14)\n",
        "plt.xlabel('Predicted label', fontsize = 14)\n",
        "\n",
        "plt.show()"
      ],
      "metadata": {
        "colab": {
          "base_uri": "https://localhost:8080/",
          "height": 447
        },
        "id": "0WCKNyZWt24K",
        "outputId": "f20c40df-dd3e-47b2-bae7-698b4114f6b3"
      },
      "execution_count": 18,
      "outputs": [
        {
          "output_type": "display_data",
          "data": {
            "text/plain": [
              "<Figure size 640x480 with 2 Axes>"
            ],
            "image/png": "[encoded data removed]"
          },
          "metadata": {}
        }
      ]
    },
    {
      "cell_type": "markdown",
      "source": [
        "\n",
        "##### **Accuracy**\n",
        "This is the ratio of correctly predicted observations to the total observations.\n",
        "\n",
        "$$\n",
        "Accuracy = \\frac{\\ True Positive + True Negative}{Total Observations}\n",
        "$$"
      ],
      "metadata": {
        "id": "bRDWf0aT4jw6"
      }
    },
    {
      "cell_type": "code",
      "source": [
        "accuracy = accuracy_score(df['airline_sentiment'], df['vader_prediction'])\n",
        "\n",
        "print(\"Accuracy: {}\\n\".format(accuracy))"
      ],
      "metadata": {
        "colab": {
          "base_uri": "https://localhost:8080/"
        },
        "id": "Mk5sEdZxuHHo",
        "outputId": "97df7e10-a5f7-4940-8daa-b27e583536fd"
      },
      "execution_count": 19,
      "outputs": [
        {
          "output_type": "stream",
          "name": "stdout",
          "text": [
            "Accuracy: 0.5184426229508197\n",
            "\n"
          ]
        }
      ]
    },
    {
      "cell_type": "markdown",
      "source": [
        "#### Classification report\n",
        "\n",
        "##### **Precision**\n",
        "This tells us how manny of the predicted positive events are positive\n",
        "(e.g. when it predicts \"A\", how often is it correct?).\n",
        "\n",
        "$$\n",
        "Precision = \\frac{\\ True Positives}{True Positives + False Positives}\n",
        "$$\n",
        "\n",
        "##### **Recall** (aka sensitivity or true positive rate)\n",
        "This tell us how many of the actual positive events are correctly predicted as positive (e.g. when it's actually \"A\", how often does it predict \"A\"?).\n",
        "\n",
        "$$\n",
        "Recall = \\frac{\\ True Positives}{True Positives + False Negatives}\n",
        "$$\n",
        "\n",
        "##### **F1-score**\n",
        "A helpful metric for comparing two classifiers. F1 Score takes into account precision and the recall (a higher score equals a better model) and provides a balance between the two metrics.\n",
        "\n",
        "$$\n",
        "F1 = 2 \\times \\frac{\\ Precision \\times Recall}{Precision + Recall}\n",
        "$$\n",
        "\n",
        "##### **Support**\n",
        "Support is the number of actual occurrences of the class in the specified dataset."
      ],
      "metadata": {
        "id": "O5RnNibIv2A1"
      }
    },
    {
      "cell_type": "code",
      "source": [
        "report = classification_report(df['airline_sentiment'], df['vader_prediction'])\n",
        "print(report)"
      ],
      "metadata": {
        "colab": {
          "base_uri": "https://localhost:8080/"
        },
        "id": "5AsLNkHyuHfU",
        "outputId": "9347faf9-2c56-4e13-f514-35542f9f0dd2"
      },
      "execution_count": 20,
      "outputs": [
        {
          "output_type": "stream",
          "name": "stdout",
          "text": [
            "              precision    recall  f1-score   support\n",
            "\n",
            "    negative       0.89      0.46      0.60      9178\n",
            "     neutral       0.37      0.44      0.40      3099\n",
            "    positive       0.33      0.86      0.47      2363\n",
            "\n",
            "    accuracy                           0.52     14640\n",
            "   macro avg       0.53      0.59      0.49     14640\n",
            "weighted avg       0.69      0.52      0.54     14640\n",
            "\n"
          ]
        }
      ]
    },
    {
      "cell_type": "markdown",
      "source": [
        "##### **Precision**\n",
        "Out of all the tweets predicted as negative, 89% were actually negative\n",
        "\n",
        "$$\n",
        "Precision = \\frac{\\ 4192 }{4192 + 407 + 98} = 0.8924\n",
        "$$\n",
        "\n",
        "##### **Recall**:\n",
        "Out of all the actual negative tweets, Vader correctly identified 45%\n",
        "\n",
        "$$\n",
        "Recall = \\frac{\\ 4192 }{4192 + 2111 + 2875} = 0.4567\n",
        "$$"
      ],
      "metadata": {
        "id": "IWF1AgL8q_Mo"
      }
    },
    {
      "cell_type": "markdown",
      "source": [
        "### Insights\n",
        "\n",
        "With an accuracy of 51.8% the prediction is just as good as flipping a coin. More work on preparing the data could maybe be one way to improve the result."
      ],
      "metadata": {
        "id": "BYudEAjfqJcV"
      }
    },
    {
      "cell_type": "code",
      "source": [],
      "metadata": {
        "id": "EvtmOV1GuHyp"
      },
      "execution_count": 20,
      "outputs": []
    },
    {
      "cell_type": "code",
      "source": [],
      "metadata": {
        "id": "IunIs8mZuIHG"
      },
      "execution_count": 20,
      "outputs": []
    },
    {
      "cell_type": "markdown",
      "source": [
        "## Sentiment Prediction with TextBlob"
      ],
      "metadata": {
        "id": "f73fXT8r-coA"
      }
    },
    {
      "cell_type": "code",
      "source": [
        "def format_textblog_output(output_dict):\n",
        "\n",
        "    polarity = \"neutral\"\n",
        "\n",
        "    if(output_dict.polarity >= 0.05):\n",
        "        polarity = \"positive\"\n",
        "\n",
        "    elif(output_dict.polarity <= -0.05):\n",
        "        polarity = \"negative\"\n",
        "\n",
        "    return polarity\n",
        "\n",
        "\n",
        "def predict_textblot_sentiment(text):\n",
        "\n",
        "    output_dict =  TextBlob(text).sentiment\n",
        "    return format_textblog_output(output_dict)"
      ],
      "metadata": {
        "id": "Thuk40gr_fX9"
      },
      "execution_count": 21,
      "outputs": []
    },
    {
      "cell_type": "code",
      "source": [
        "df[\"textblob_prediction\"] = df[\"clean_text\"].apply(predict_textblot_sentiment)"
      ],
      "metadata": {
        "id": "iCO510oXzRqc"
      },
      "execution_count": 22,
      "outputs": []
    },
    {
      "cell_type": "markdown",
      "source": [
        "### Inspect TextBlog Performance"
      ],
      "metadata": {
        "id": "ecUFz7KQ1bP7"
      }
    },
    {
      "cell_type": "code",
      "source": [
        "cfm = confusion_matrix(df['airline_sentiment'], df['textblob_prediction'])\n",
        "df_confusion_matrix = pd.DataFrame(cfm, ('Negative', 'Neutral', 'Positive'), ('Negative', 'Neutral', 'Positive'))\n",
        "\n",
        "heatmap = sns.heatmap(df_confusion_matrix, annot=True, annot_kws={\"size\": 20}, fmt=\"d\")\n",
        "\n",
        "heatmap.yaxis.set_ticklabels(heatmap.yaxis.get_ticklabels(), rotation=0, ha='right', fontsize = 14)\n",
        "\n",
        "heatmap.xaxis.set_ticklabels(heatmap.xaxis.get_ticklabels(), rotation=0, ha='right', fontsize = 14)\n",
        "heatmap.xaxis.set_ticks_position('top')\n",
        "heatmap.xaxis.set_label_position('top')\n",
        "\n",
        "plt.ylabel('Actual / True label', fontsize = 14)\n",
        "plt.xlabel('Predicted label', fontsize = 14)\n",
        "\n",
        "plt.show()"
      ],
      "metadata": {
        "colab": {
          "base_uri": "https://localhost:8080/",
          "height": 447
        },
        "id": "aO7e9P55zXj2",
        "outputId": "bde8699f-471c-47e3-a18a-1f4ca65bc8d7"
      },
      "execution_count": 23,
      "outputs": [
        {
          "output_type": "display_data",
          "data": {
            "text/plain": [
              "<Figure size 640x480 with 2 Axes>"
            ],
            "image/png": "[encoded data removed]"
          },
          "metadata": {}
        }
      ]
    },
    {
      "cell_type": "code",
      "source": [
        "accuracy = accuracy_score(df['airline_sentiment'], df['textblob_prediction'])\n",
        "\n",
        "print(\"Accuracy: {}\\n\".format(accuracy))"
      ],
      "metadata": {
        "colab": {
          "base_uri": "https://localhost:8080/"
        },
        "id": "ujqBKpG91mti",
        "outputId": "70f3ada0-7880-47b0-ef9d-4b12262b17c7"
      },
      "execution_count": 24,
      "outputs": [
        {
          "output_type": "stream",
          "name": "stdout",
          "text": [
            "Accuracy: 0.4459016393442623\n",
            "\n"
          ]
        }
      ]
    },
    {
      "cell_type": "code",
      "source": [
        "report = classification_report(df['airline_sentiment'], df['textblob_prediction'])\n",
        "print(report)"
      ],
      "metadata": {
        "colab": {
          "base_uri": "https://localhost:8080/"
        },
        "id": "yu47BNXM1fup",
        "outputId": "8e0abc5b-bc97-4e59-8f1b-0e4be4524a76"
      },
      "execution_count": 25,
      "outputs": [
        {
          "output_type": "stream",
          "name": "stdout",
          "text": [
            "              precision    recall  f1-score   support\n",
            "\n",
            "    negative       0.89      0.33      0.48      9178\n",
            "     neutral       0.29      0.58      0.39      3099\n",
            "    positive       0.34      0.73      0.46      2363\n",
            "\n",
            "    accuracy                           0.45     14640\n",
            "   macro avg       0.51      0.55      0.44     14640\n",
            "weighted avg       0.67      0.45      0.46     14640\n",
            "\n"
          ]
        }
      ]
    },
    {
      "cell_type": "markdown",
      "source": [
        "### Insights\n",
        "\n",
        "With an accuracy of 44.5% the prediction is worse than flipping a coin. More work on preparing the data could maybe be one way to improve the result."
      ],
      "metadata": {
        "id": "9iofaNjP2ERc"
      }
    },
    {
      "cell_type": "code",
      "source": [],
      "metadata": {
        "id": "iYQouUp31_4D"
      },
      "execution_count": 25,
      "outputs": []
    },
    {
      "cell_type": "markdown",
      "source": [
        "## Sentiment prediction using various SKlearn models"
      ],
      "metadata": {
        "id": "lyU0PaPa6FZd"
      }
    },
    {
      "cell_type": "code",
      "source": [
        "from sklearn.tree import DecisionTreeClassifier\n",
        "from sklearn.linear_model import LogisticRegression\n",
        "from sklearn.naive_bayes import MultinomialNB\n",
        "from sklearn.neighbors import KNeighborsClassifier\n",
        "from sklearn.ensemble import RandomForestClassifier,AdaBoostClassifier,GradientBoostingClassifier\n",
        "from sklearn.svm import SVC\n",
        "\n",
        "from sklearn.model_selection import GridSearchCV\n",
        "\n",
        "from sklearn.metrics import f1_score\n",
        "from sklearn.metrics import auc\n",
        "from sklearn.metrics import roc_curve\n",
        "from sklearn.metrics import roc_auc_score, accuracy_score\n",
        "from sklearn.metrics import precision_recall_curve\n",
        "\n",
        "from sklearn.feature_extraction.text import CountVectorizer, TfidfVectorizer\n",
        "\n",
        "from sklearn.model_selection import train_test_split"
      ],
      "metadata": {
        "id": "JBqXpPBc6KMK"
      },
      "execution_count": 26,
      "outputs": []
    },
    {
      "cell_type": "code",
      "source": [
        "vectorizer = TfidfVectorizer(use_idf=True, lowercase=True)\n",
        "\n",
        "features = vectorizer.fit_transform(df['clean_text'])\n",
        "labels = df['airline_sentiment'].values"
      ],
      "metadata": {
        "id": "WfLaPHuIw2QC"
      },
      "execution_count": 27,
      "outputs": []
    },
    {
      "cell_type": "code",
      "source": [
        "x_train, x_test, y_train, y_test = train_test_split(features, labels, random_state=42)"
      ],
      "metadata": {
        "id": "iv_3d1bU6WyH"
      },
      "execution_count": 28,
      "outputs": []
    },
    {
      "cell_type": "code",
      "source": [
        "def check_scores(clf, X_train, X_test, y_train, y_test):\n",
        "  model = clf.fit(X_train, y_train)\n",
        "\n",
        "  predicted_class = model.predict(X_test)\n",
        "  predicted_class_train = model.predict(X_train)\n",
        "\n",
        "  test_probs = model.predict_proba(X_test)\n",
        "  test_probs = test_probs[:, 1]\n",
        "\n",
        "  yhat = model.predict(X_test)\n",
        "\n",
        "  print('Train confusion matrix is: ',)\n",
        "  print(confusion_matrix(y_train, predicted_class_train))\n",
        "\n",
        "  print()\n",
        "  print('Test confusion matrix is: ')\n",
        "  print(confusion_matrix(y_test, predicted_class))\n",
        "  print()\n",
        "  print(classification_report(y_test,predicted_class))\n",
        "  print()\n",
        "  train_accuracy = accuracy_score(y_train,predicted_class_train)\n",
        "  test_accuracy = accuracy_score(y_test,predicted_class)\n",
        "\n",
        "  print(\"Train accuracy score: \", train_accuracy)\n",
        "  print(\"Test accuracy score: \",test_accuracy )\n",
        "  print()\n",
        "\n"
      ],
      "metadata": {
        "id": "HUp4qNoS8HXC"
      },
      "execution_count": 29,
      "outputs": []
    },
    {
      "cell_type": "code",
      "source": [
        "def grid_search(clf, parameters, X_train, Y_train):\n",
        "  grid = GridSearchCV(estimator = clf, param_grid = parameters, cv = 4, verbose = 1) #, scoring='roc_auc')\n",
        "  grid.fit(X_train,Y_train)\n",
        "  print()\n",
        "  print()\n",
        "  # Best model found using grid search\n",
        "  optimal_model = grid.best_estimator_\n",
        "  print('Best parameters are: ')\n",
        "  print( grid.best_params_)\n",
        "\n",
        "  return optimal_model"
      ],
      "metadata": {
        "id": "db4aSHEx9x8M"
      },
      "execution_count": 30,
      "outputs": []
    },
    {
      "cell_type": "markdown",
      "source": [
        "### Decision Tree"
      ],
      "metadata": {
        "id": "oYzSPJV4x-YF"
      }
    },
    {
      "cell_type": "code",
      "source": [
        "# Create the parameter grid based on the results of random search\n",
        "params = {\n",
        "    'max_depth': [2, 3, 5, 10, 20],\n",
        "    'min_samples_leaf': [5, 10, 20, 50, 100],\n",
        "    'criterion': [\"gini\", \"entropy\"]\n",
        "}"
      ],
      "metadata": {
        "id": "D5O_HBtS1ybl"
      },
      "execution_count": 31,
      "outputs": []
    },
    {
      "cell_type": "code",
      "source": [
        "%%time\n",
        "clf_best_model = grid_search(DecisionTreeClassifier(random_state=42), params, x_train, y_train)"
      ],
      "metadata": {
        "colab": {
          "base_uri": "https://localhost:8080/"
        },
        "id": "unbZp9Ai-CYm",
        "outputId": "680d92c1-7c4d-4df6-e8a1-0cb17e40b90f"
      },
      "execution_count": 32,
      "outputs": [
        {
          "output_type": "stream",
          "name": "stdout",
          "text": [
            "Fitting 4 folds for each of 50 candidates, totalling 200 fits\n",
            "\n",
            "\n",
            "Best parameters are: \n",
            "{'criterion': 'gini', 'max_depth': 20, 'min_samples_leaf': 20}\n",
            "CPU times: user 31.3 s, sys: 54 ms, total: 31.3 s\n",
            "Wall time: 31.6 s\n"
          ]
        }
      ]
    },
    {
      "cell_type": "code",
      "source": [
        "check_scores(clf_best_model, x_train, x_test, y_train, y_test)"
      ],
      "metadata": {
        "colab": {
          "base_uri": "https://localhost:8080/"
        },
        "id": "Nb1f_nzI_zZU",
        "outputId": "7d973221-677d-47d4-e4e8-9b4eb80e6f4c"
      },
      "execution_count": 33,
      "outputs": [
        {
          "output_type": "stream",
          "name": "stdout",
          "text": [
            "Train confusion matrix is: \n",
            "[[6593   57  188]\n",
            " [2025  177  159]\n",
            " [ 838   25  918]]\n",
            "\n",
            "Test confusion matrix is: \n",
            "[[2245   23   72]\n",
            " [ 641   42   55]\n",
            " [ 273   10  299]]\n",
            "\n",
            "              precision    recall  f1-score   support\n",
            "\n",
            "    negative       0.71      0.96      0.82      2340\n",
            "     neutral       0.56      0.06      0.10       738\n",
            "    positive       0.70      0.51      0.59       582\n",
            "\n",
            "    accuracy                           0.71      3660\n",
            "   macro avg       0.66      0.51      0.50      3660\n",
            "weighted avg       0.68      0.71      0.64      3660\n",
            "\n",
            "\n",
            "Train accuracy score:  0.7001821493624772\n",
            "Test accuracy score:  0.7065573770491803\n",
            "\n"
          ]
        }
      ]
    },
    {
      "cell_type": "markdown",
      "source": [
        "## Naive Bayes"
      ],
      "metadata": {
        "id": "E-jooVX92JGk"
      }
    },
    {
      "cell_type": "code",
      "source": [
        "params = {\n",
        "    'alpha': [0.01, 0.1, 1, 10]\n",
        "}"
      ],
      "metadata": {
        "id": "eaihAGvu1pZy"
      },
      "execution_count": 34,
      "outputs": []
    },
    {
      "cell_type": "code",
      "source": [
        "%%time\n",
        "clf_best_model = grid_search(MultinomialNB(), params, x_train, y_train)"
      ],
      "metadata": {
        "colab": {
          "base_uri": "https://localhost:8080/"
        },
        "id": "vLPEy5AH1g_Z",
        "outputId": "564cdd87-ef37-4686-d14d-b7d51e58206b"
      },
      "execution_count": 35,
      "outputs": [
        {
          "output_type": "stream",
          "name": "stdout",
          "text": [
            "Fitting 4 folds for each of 4 candidates, totalling 16 fits\n",
            "\n",
            "\n",
            "Best parameters are: \n",
            "{'alpha': 0.1}\n",
            "CPU times: user 446 ms, sys: 1.08 ms, total: 447 ms\n",
            "Wall time: 450 ms\n"
          ]
        }
      ]
    },
    {
      "cell_type": "code",
      "source": [
        "check_scores(clf_best_model, x_train, x_test, y_train, y_test)"
      ],
      "metadata": {
        "colab": {
          "base_uri": "https://localhost:8080/"
        },
        "id": "M5oKGYna2GGu",
        "outputId": "e4d4d014-539c-429a-9570-42c3cd630b3f"
      },
      "execution_count": 36,
      "outputs": [
        {
          "output_type": "stream",
          "name": "stdout",
          "text": [
            "Train confusion matrix is: \n",
            "[[6758   64   16]\n",
            " [ 800 1489   72]\n",
            " [ 360   72 1349]]\n",
            "\n",
            "Test confusion matrix is: \n",
            "[[2187  110   43]\n",
            " [ 404  282   52]\n",
            " [ 208   69  305]]\n",
            "\n",
            "              precision    recall  f1-score   support\n",
            "\n",
            "    negative       0.78      0.93      0.85      2340\n",
            "     neutral       0.61      0.38      0.47       738\n",
            "    positive       0.76      0.52      0.62       582\n",
            "\n",
            "    accuracy                           0.76      3660\n",
            "   macro avg       0.72      0.61      0.65      3660\n",
            "weighted avg       0.74      0.76      0.74      3660\n",
            "\n",
            "\n",
            "Train accuracy score:  0.8739526411657559\n",
            "Test accuracy score:  0.7579234972677595\n",
            "\n"
          ]
        }
      ]
    },
    {
      "cell_type": "markdown",
      "source": [
        "## K-Nearest Neighbors (KNN)"
      ],
      "metadata": {
        "id": "OZKuvIP2213r"
      }
    },
    {
      "cell_type": "code",
      "source": [
        "params = {\n",
        "    'n_neighbors': [2, 3, 5, 10, 15, 20]\n",
        "}"
      ],
      "metadata": {
        "id": "UvgGRBuh2R-L"
      },
      "execution_count": 37,
      "outputs": []
    },
    {
      "cell_type": "code",
      "source": [
        "%%time\n",
        "clf_best_model = grid_search(KNeighborsClassifier(), params, x_train, y_train)"
      ],
      "metadata": {
        "colab": {
          "base_uri": "https://localhost:8080/"
        },
        "id": "4J4G70nb2Sg8",
        "outputId": "0ec3587d-a402-411e-a589-31cff6adf088"
      },
      "execution_count": 38,
      "outputs": [
        {
          "output_type": "stream",
          "name": "stdout",
          "text": [
            "Fitting 4 folds for each of 6 candidates, totalling 24 fits\n",
            "\n",
            "\n",
            "Best parameters are: \n",
            "{'n_neighbors': 2}\n",
            "CPU times: user 2min, sys: 301 ms, total: 2min\n",
            "Wall time: 1min 20s\n"
          ]
        }
      ]
    },
    {
      "cell_type": "code",
      "source": [
        "check_scores(clf_best_model, x_train, x_test, y_train, y_test)"
      ],
      "metadata": {
        "colab": {
          "base_uri": "https://localhost:8080/"
        },
        "id": "5tDprAL_2S4T",
        "outputId": "7288b90e-df8e-40ac-f3cd-860069ffddac"
      },
      "execution_count": 39,
      "outputs": [
        {
          "output_type": "stream",
          "name": "stdout",
          "text": [
            "Train confusion matrix is: \n",
            "[[6830    8    0]\n",
            " [ 161 2189   11]\n",
            " [  38  199 1544]]\n",
            "\n",
            "Test confusion matrix is: \n",
            "[[2267   62   11]\n",
            " [ 535  179   24]\n",
            " [ 404   66  112]]\n",
            "\n",
            "              precision    recall  f1-score   support\n",
            "\n",
            "    negative       0.71      0.97      0.82      2340\n",
            "     neutral       0.58      0.24      0.34       738\n",
            "    positive       0.76      0.19      0.31       582\n",
            "\n",
            "    accuracy                           0.70      3660\n",
            "   macro avg       0.68      0.47      0.49      3660\n",
            "weighted avg       0.69      0.70      0.64      3660\n",
            "\n",
            "\n",
            "Train accuracy score:  0.9620218579234973\n",
            "Test accuracy score:  0.6989071038251367\n",
            "\n"
          ]
        }
      ]
    },
    {
      "cell_type": "markdown",
      "source": [
        "## Random Forest"
      ],
      "metadata": {
        "id": "nL0bmd5p5JB5"
      }
    },
    {
      "cell_type": "code",
      "source": [
        "params = {\n",
        "    'n_estimators': [200, 500],\n",
        "    'max_features': ['sqrt', 'log2'],\n",
        "    'max_depth' : [4, 5, 6, 7, 8],\n",
        "    'criterion' :['gini', 'entropy']\n",
        "}"
      ],
      "metadata": {
        "id": "yjVKnyTz6u3M"
      },
      "execution_count": 40,
      "outputs": []
    },
    {
      "cell_type": "code",
      "source": [
        "%%time\n",
        "clf_forest = RandomForestClassifier()\n",
        "clf_best_model = grid_search(clf_forest, params, x_train, y_train)"
      ],
      "metadata": {
        "id": "_2_26lF2_ztG",
        "colab": {
          "base_uri": "https://localhost:8080/"
        },
        "outputId": "c475dd34-9f3f-4c1e-9a38-098d4908b6cf"
      },
      "execution_count": 41,
      "outputs": [
        {
          "output_type": "stream",
          "name": "stdout",
          "text": [
            "Fitting 4 folds for each of 40 candidates, totalling 160 fits\n",
            "\n",
            "\n",
            "Best parameters are: \n",
            "{'criterion': 'gini', 'max_depth': 4, 'max_features': 'sqrt', 'n_estimators': 200}\n",
            "CPU times: user 6min 14s, sys: 1.06 s, total: 6min 15s\n",
            "Wall time: 6min 17s\n"
          ]
        }
      ]
    },
    {
      "cell_type": "code",
      "source": [
        "check_scores(clf_best_model, x_train, x_test, y_train, y_test)"
      ],
      "metadata": {
        "id": "pNQRhgLq9OqI",
        "colab": {
          "base_uri": "https://localhost:8080/"
        },
        "outputId": "07c9f049-4526-49ee-8fb0-5fbb3d532837"
      },
      "execution_count": 42,
      "outputs": [
        {
          "output_type": "stream",
          "name": "stdout",
          "text": [
            "Train confusion matrix is: \n",
            "[[6838    0    0]\n",
            " [2361    0    0]\n",
            " [1781    0    0]]\n",
            "\n",
            "Test confusion matrix is: \n",
            "[[2340    0    0]\n",
            " [ 738    0    0]\n",
            " [ 582    0    0]]\n",
            "\n",
            "              precision    recall  f1-score   support\n",
            "\n",
            "    negative       0.64      1.00      0.78      2340\n",
            "     neutral       0.00      0.00      0.00       738\n",
            "    positive       0.00      0.00      0.00       582\n",
            "\n",
            "    accuracy                           0.64      3660\n",
            "   macro avg       0.21      0.33      0.26      3660\n",
            "weighted avg       0.41      0.64      0.50      3660\n",
            "\n",
            "\n",
            "Train accuracy score:  0.6227686703096539\n",
            "Test accuracy score:  0.639344262295082\n",
            "\n"
          ]
        },
        {
          "output_type": "stream",
          "name": "stderr",
          "text": [
            "/usr/local/lib/python3.10/dist-packages/sklearn/metrics/_classification.py:1344: UndefinedMetricWarning: Precision and F-score are ill-defined and being set to 0.0 in labels with no predicted samples. Use `zero_division` parameter to control this behavior.\n",
            "  _warn_prf(average, modifier, msg_start, len(result))\n",
            "/usr/local/lib/python3.10/dist-packages/sklearn/metrics/_classification.py:1344: UndefinedMetricWarning: Precision and F-score are ill-defined and being set to 0.0 in labels with no predicted samples. Use `zero_division` parameter to control this behavior.\n",
            "  _warn_prf(average, modifier, msg_start, len(result))\n",
            "/usr/local/lib/python3.10/dist-packages/sklearn/metrics/_classification.py:1344: UndefinedMetricWarning: Precision and F-score are ill-defined and being set to 0.0 in labels with no predicted samples. Use `zero_division` parameter to control this behavior.\n",
            "  _warn_prf(average, modifier, msg_start, len(result))\n"
          ]
        }
      ]
    },
    {
      "cell_type": "code",
      "source": [],
      "metadata": {
        "id": "Yq0rye3p6GLa"
      },
      "execution_count": 42,
      "outputs": []
    }
  ]
}